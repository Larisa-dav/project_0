{
 "cells": [
  {
   "cell_type": "code",
   "execution_count": 67,
   "metadata": {
    "_cell_guid": "b1076dfc-b9ad-4769-8c92-a6c4dae69d19",
    "_uuid": "8f2839f25d086af736a60e9eeb907d3b93b6e0e5",
    "colab": {},
    "colab_type": "code",
    "id": "U2D2gTdJVp90"
   },
   "outputs": [],
   "source": [
    "import numpy as np\n",
    "import pandas as pd\n",
    "import seaborn as sns\n",
    "import matplotlib.pyplot as plt\n",
    "import itertools\n",
    "from collections import Counter"
   ]
  },
  {
   "cell_type": "code",
   "execution_count": 68,
   "metadata": {
    "_cell_guid": "79c7e3d0-c299-4dcb-8224-4455121ee9b0",
    "_uuid": "d629ff2d2480ee46fbb7e2d37f6b5fab8052498a",
    "colab": {},
    "colab_type": "code",
    "id": "oyGfxL3eVp9-"
   },
   "outputs": [
    {
     "data": {
      "text/html": [
       "<div>\n",
       "<style scoped>\n",
       "    .dataframe tbody tr th:only-of-type {\n",
       "        vertical-align: middle;\n",
       "    }\n",
       "\n",
       "    .dataframe tbody tr th {\n",
       "        vertical-align: top;\n",
       "    }\n",
       "\n",
       "    .dataframe thead th {\n",
       "        text-align: right;\n",
       "    }\n",
       "</style>\n",
       "<table border=\"1\" class=\"dataframe\">\n",
       "  <thead>\n",
       "    <tr style=\"text-align: right;\">\n",
       "      <th></th>\n",
       "      <th>imdb_id</th>\n",
       "      <th>budget</th>\n",
       "      <th>revenue</th>\n",
       "      <th>original_title</th>\n",
       "      <th>cast</th>\n",
       "      <th>director</th>\n",
       "      <th>tagline</th>\n",
       "      <th>overview</th>\n",
       "      <th>runtime</th>\n",
       "      <th>genres</th>\n",
       "      <th>production_companies</th>\n",
       "      <th>release_date</th>\n",
       "      <th>vote_average</th>\n",
       "      <th>release_year</th>\n",
       "    </tr>\n",
       "  </thead>\n",
       "  <tbody>\n",
       "    <tr>\n",
       "      <th>953</th>\n",
       "      <td>tt0265298</td>\n",
       "      <td>15000000</td>\n",
       "      <td>52970014</td>\n",
       "      <td>Big Fat Liar</td>\n",
       "      <td>Frankie Muniz|Paul Giamatti|Amanda Bynes|Amand...</td>\n",
       "      <td>Shawn Levy</td>\n",
       "      <td>The truth is never overrated</td>\n",
       "      <td>Fourteen-year-old Jason Shepherd (Muniz) has a...</td>\n",
       "      <td>88</td>\n",
       "      <td>Comedy|Family</td>\n",
       "      <td>Universal Pictures</td>\n",
       "      <td>2/8/2002</td>\n",
       "      <td>5.7</td>\n",
       "      <td>2002</td>\n",
       "    </tr>\n",
       "    <tr>\n",
       "      <th>844</th>\n",
       "      <td>tt1067583</td>\n",
       "      <td>38000000</td>\n",
       "      <td>114156230</td>\n",
       "      <td>Water for Elephants</td>\n",
       "      <td>Robert Pattinson|Reese Witherspoon|Christoph W...</td>\n",
       "      <td>Francis Lawrence</td>\n",
       "      <td>Life is the most spectacular show on earth.</td>\n",
       "      <td>In this captivating Depression-era melodrama, ...</td>\n",
       "      <td>120</td>\n",
       "      <td>Drama|Romance</td>\n",
       "      <td>Ingenious Media|Dune Entertainment|Fox 2000 Pi...</td>\n",
       "      <td>3/15/2011</td>\n",
       "      <td>6.7</td>\n",
       "      <td>2011</td>\n",
       "    </tr>\n",
       "    <tr>\n",
       "      <th>158</th>\n",
       "      <td>tt1911658</td>\n",
       "      <td>132000000</td>\n",
       "      <td>373552094</td>\n",
       "      <td>Penguins of Madagascar</td>\n",
       "      <td>Tom McGrath|Chris Miller|Christopher Knights|C...</td>\n",
       "      <td>Simon J. Smith|Eric Darnell</td>\n",
       "      <td>The Movie Event That Will Blow Their Cover</td>\n",
       "      <td>Skipper, Kowalski, Rico and Private join force...</td>\n",
       "      <td>92</td>\n",
       "      <td>Family|Animation|Adventure|Comedy</td>\n",
       "      <td>DreamWorks Animation</td>\n",
       "      <td>11/22/2014</td>\n",
       "      <td>6.5</td>\n",
       "      <td>2014</td>\n",
       "    </tr>\n",
       "    <tr>\n",
       "      <th>989</th>\n",
       "      <td>tt1981677</td>\n",
       "      <td>17000000</td>\n",
       "      <td>115350426</td>\n",
       "      <td>Pitch Perfect</td>\n",
       "      <td>Anna Kendrick|Skylar Astin|Brittany Snow|Anna ...</td>\n",
       "      <td>Jason Moore</td>\n",
       "      <td>Get pitch slapped.</td>\n",
       "      <td>College student Beca knows she does not want t...</td>\n",
       "      <td>112</td>\n",
       "      <td>Comedy|Music|Romance</td>\n",
       "      <td>Brownstone Productions</td>\n",
       "      <td>9/28/2012</td>\n",
       "      <td>7.2</td>\n",
       "      <td>2012</td>\n",
       "    </tr>\n",
       "    <tr>\n",
       "      <th>1040</th>\n",
       "      <td>tt1596365</td>\n",
       "      <td>17000000</td>\n",
       "      <td>127730736</td>\n",
       "      <td>The Woman in Black</td>\n",
       "      <td>Daniel Radcliffe|CiarÃ¡n Hinds|Sidney Johnston...</td>\n",
       "      <td>James Watkins</td>\n",
       "      <td>What did they see?</td>\n",
       "      <td>The story follows a young lawyer, Arthur Kipps...</td>\n",
       "      <td>95</td>\n",
       "      <td>Drama|Horror|Thriller</td>\n",
       "      <td>Hammer Film Productions|UK Film Council|Allian...</td>\n",
       "      <td>2/1/2012</td>\n",
       "      <td>6.1</td>\n",
       "      <td>2012</td>\n",
       "    </tr>\n",
       "  </tbody>\n",
       "</table>\n",
       "</div>"
      ],
      "text/plain": [
       "        imdb_id     budget    revenue          original_title  \\\n",
       "953   tt0265298   15000000   52970014            Big Fat Liar   \n",
       "844   tt1067583   38000000  114156230     Water for Elephants   \n",
       "158   tt1911658  132000000  373552094  Penguins of Madagascar   \n",
       "989   tt1981677   17000000  115350426           Pitch Perfect   \n",
       "1040  tt1596365   17000000  127730736      The Woman in Black   \n",
       "\n",
       "                                                   cast  \\\n",
       "953   Frankie Muniz|Paul Giamatti|Amanda Bynes|Amand...   \n",
       "844   Robert Pattinson|Reese Witherspoon|Christoph W...   \n",
       "158   Tom McGrath|Chris Miller|Christopher Knights|C...   \n",
       "989   Anna Kendrick|Skylar Astin|Brittany Snow|Anna ...   \n",
       "1040  Daniel Radcliffe|CiarÃ¡n Hinds|Sidney Johnston...   \n",
       "\n",
       "                         director  \\\n",
       "953                    Shawn Levy   \n",
       "844              Francis Lawrence   \n",
       "158   Simon J. Smith|Eric Darnell   \n",
       "989                   Jason Moore   \n",
       "1040                James Watkins   \n",
       "\n",
       "                                          tagline  \\\n",
       "953                  The truth is never overrated   \n",
       "844   Life is the most spectacular show on earth.   \n",
       "158    The Movie Event That Will Blow Their Cover   \n",
       "989                            Get pitch slapped.   \n",
       "1040                           What did they see?   \n",
       "\n",
       "                                               overview  runtime  \\\n",
       "953   Fourteen-year-old Jason Shepherd (Muniz) has a...       88   \n",
       "844   In this captivating Depression-era melodrama, ...      120   \n",
       "158   Skipper, Kowalski, Rico and Private join force...       92   \n",
       "989   College student Beca knows she does not want t...      112   \n",
       "1040  The story follows a young lawyer, Arthur Kipps...       95   \n",
       "\n",
       "                                 genres  \\\n",
       "953                       Comedy|Family   \n",
       "844                       Drama|Romance   \n",
       "158   Family|Animation|Adventure|Comedy   \n",
       "989                Comedy|Music|Romance   \n",
       "1040              Drama|Horror|Thriller   \n",
       "\n",
       "                                   production_companies release_date  \\\n",
       "953                                  Universal Pictures     2/8/2002   \n",
       "844   Ingenious Media|Dune Entertainment|Fox 2000 Pi...    3/15/2011   \n",
       "158                                DreamWorks Animation   11/22/2014   \n",
       "989                              Brownstone Productions    9/28/2012   \n",
       "1040  Hammer Film Productions|UK Film Council|Allian...     2/1/2012   \n",
       "\n",
       "      vote_average  release_year  \n",
       "953            5.7          2002  \n",
       "844            6.7          2011  \n",
       "158            6.5          2014  \n",
       "989            7.2          2012  \n",
       "1040           6.1          2012  "
      ]
     },
     "execution_count": 68,
     "metadata": {},
     "output_type": "execute_result"
    }
   ],
   "source": [
    "films = pd.read_csv('movie_bd_v5.csv')\n",
    "films.sample(5)"
   ]
  },
  {
   "cell_type": "code",
   "execution_count": 69,
   "metadata": {
    "colab": {},
    "colab_type": "code",
    "id": "CoYUnagMVp-C"
   },
   "outputs": [
    {
     "data": {
      "text/html": [
       "<div>\n",
       "<style scoped>\n",
       "    .dataframe tbody tr th:only-of-type {\n",
       "        vertical-align: middle;\n",
       "    }\n",
       "\n",
       "    .dataframe tbody tr th {\n",
       "        vertical-align: top;\n",
       "    }\n",
       "\n",
       "    .dataframe thead th {\n",
       "        text-align: right;\n",
       "    }\n",
       "</style>\n",
       "<table border=\"1\" class=\"dataframe\">\n",
       "  <thead>\n",
       "    <tr style=\"text-align: right;\">\n",
       "      <th></th>\n",
       "      <th>budget</th>\n",
       "      <th>revenue</th>\n",
       "      <th>runtime</th>\n",
       "      <th>vote_average</th>\n",
       "      <th>release_year</th>\n",
       "    </tr>\n",
       "  </thead>\n",
       "  <tbody>\n",
       "    <tr>\n",
       "      <th>count</th>\n",
       "      <td>1.889000e+03</td>\n",
       "      <td>1.889000e+03</td>\n",
       "      <td>1889.000000</td>\n",
       "      <td>1889.000000</td>\n",
       "      <td>1889.000000</td>\n",
       "    </tr>\n",
       "    <tr>\n",
       "      <th>mean</th>\n",
       "      <td>5.431083e+07</td>\n",
       "      <td>1.553653e+08</td>\n",
       "      <td>109.658549</td>\n",
       "      <td>6.140762</td>\n",
       "      <td>2007.860773</td>\n",
       "    </tr>\n",
       "    <tr>\n",
       "      <th>std</th>\n",
       "      <td>4.858721e+07</td>\n",
       "      <td>2.146698e+08</td>\n",
       "      <td>18.017041</td>\n",
       "      <td>0.764763</td>\n",
       "      <td>4.468841</td>\n",
       "    </tr>\n",
       "    <tr>\n",
       "      <th>min</th>\n",
       "      <td>5.000000e+06</td>\n",
       "      <td>2.033165e+06</td>\n",
       "      <td>63.000000</td>\n",
       "      <td>3.300000</td>\n",
       "      <td>2000.000000</td>\n",
       "    </tr>\n",
       "    <tr>\n",
       "      <th>25%</th>\n",
       "      <td>2.000000e+07</td>\n",
       "      <td>3.456058e+07</td>\n",
       "      <td>97.000000</td>\n",
       "      <td>5.600000</td>\n",
       "      <td>2004.000000</td>\n",
       "    </tr>\n",
       "    <tr>\n",
       "      <th>50%</th>\n",
       "      <td>3.800000e+07</td>\n",
       "      <td>8.361541e+07</td>\n",
       "      <td>107.000000</td>\n",
       "      <td>6.100000</td>\n",
       "      <td>2008.000000</td>\n",
       "    </tr>\n",
       "    <tr>\n",
       "      <th>75%</th>\n",
       "      <td>7.200000e+07</td>\n",
       "      <td>1.782626e+08</td>\n",
       "      <td>120.000000</td>\n",
       "      <td>6.600000</td>\n",
       "      <td>2012.000000</td>\n",
       "    </tr>\n",
       "    <tr>\n",
       "      <th>max</th>\n",
       "      <td>3.800000e+08</td>\n",
       "      <td>2.781506e+09</td>\n",
       "      <td>214.000000</td>\n",
       "      <td>8.100000</td>\n",
       "      <td>2015.000000</td>\n",
       "    </tr>\n",
       "  </tbody>\n",
       "</table>\n",
       "</div>"
      ],
      "text/plain": [
       "             budget       revenue      runtime  vote_average  release_year\n",
       "count  1.889000e+03  1.889000e+03  1889.000000   1889.000000   1889.000000\n",
       "mean   5.431083e+07  1.553653e+08   109.658549      6.140762   2007.860773\n",
       "std    4.858721e+07  2.146698e+08    18.017041      0.764763      4.468841\n",
       "min    5.000000e+06  2.033165e+06    63.000000      3.300000   2000.000000\n",
       "25%    2.000000e+07  3.456058e+07    97.000000      5.600000   2004.000000\n",
       "50%    3.800000e+07  8.361541e+07   107.000000      6.100000   2008.000000\n",
       "75%    7.200000e+07  1.782626e+08   120.000000      6.600000   2012.000000\n",
       "max    3.800000e+08  2.781506e+09   214.000000      8.100000   2015.000000"
      ]
     },
     "execution_count": 69,
     "metadata": {},
     "output_type": "execute_result"
    }
   ],
   "source": [
    "films.describe()"
   ]
  },
  {
   "cell_type": "markdown",
   "metadata": {
    "colab_type": "text",
    "id": "DTIt7ezGVp-G"
   },
   "source": [
    "# Предобработка"
   ]
  },
  {
   "cell_type": "code",
   "execution_count": 70,
   "metadata": {
    "colab": {},
    "colab_type": "code",
    "id": "jNb40DwKVp-H"
   },
   "outputs": [],
   "source": [
    "answers = {} # создадим словарь для ответов\n",
    "\n",
    "# извините, все продобработки у меня непосредственно в коде, переделывать не буду"
   ]
  },
  {
   "cell_type": "markdown",
   "metadata": {
    "colab_type": "text",
    "id": "YxZaH-nPVp-L"
   },
   "source": [
    "# 1. У какого фильма из списка самый большой бюджет?"
   ]
  },
  {
   "cell_type": "code",
   "execution_count": 71,
   "metadata": {
    "colab": {},
    "colab_type": "code",
    "id": "uVnXAY5RVp-O"
   },
   "outputs": [],
   "source": [
    "answers['1'] = 'Pirates of the Caribbean: On Stranger Tides (tt1298650)'\n",
    "# +"
   ]
  },
  {
   "cell_type": "code",
   "execution_count": 72,
   "metadata": {
    "colab": {},
    "colab_type": "code",
    "id": "dZwb3m28Vp-S"
   },
   "outputs": [
    {
     "data": {
      "text/plain": [
       "array(['Pirates of the Caribbean: On Stranger Tides'], dtype=object)"
      ]
     },
     "execution_count": 72,
     "metadata": {},
     "output_type": "execute_result"
    }
   ],
   "source": [
    "films[(films.budget==films.budget.max())].original_title.unique()"
   ]
  },
  {
   "cell_type": "markdown",
   "metadata": {
    "colab_type": "text",
    "id": "FNRbbI3vVp-c"
   },
   "source": [
    "# 2. Какой из фильмов самый длительный (в минутах)?"
   ]
  },
  {
   "cell_type": "code",
   "execution_count": 73,
   "metadata": {
    "colab": {},
    "colab_type": "code",
    "id": "vHAoEXNTVp-d"
   },
   "outputs": [],
   "source": [
    "answers['2'] = 'Gods and Generals (tt0279111)'\n",
    "# +"
   ]
  },
  {
   "cell_type": "code",
   "execution_count": 74,
   "metadata": {
    "colab": {},
    "colab_type": "code",
    "id": "ot-VX2XrVp-g"
   },
   "outputs": [
    {
     "data": {
      "text/plain": [
       "array(['Gods and Generals'], dtype=object)"
      ]
     },
     "execution_count": 74,
     "metadata": {},
     "output_type": "execute_result"
    }
   ],
   "source": [
    "films[(films.runtime==films.runtime.max())].original_title.unique()"
   ]
  },
  {
   "cell_type": "markdown",
   "metadata": {
    "colab_type": "text",
    "id": "bapLlpW8Vp-k"
   },
   "source": [
    "# 3. Какой из фильмов самый короткий (в минутах)?\n",
    "\n",
    "\n",
    "\n"
   ]
  },
  {
   "cell_type": "code",
   "execution_count": 75,
   "metadata": {
    "colab": {},
    "colab_type": "code",
    "id": "YBxaSHuAVp-l"
   },
   "outputs": [],
   "source": [
    "answers['3'] = 'Gods and Generals (tt0279111)'\n",
    "# +"
   ]
  },
  {
   "cell_type": "code",
   "execution_count": 76,
   "metadata": {},
   "outputs": [
    {
     "data": {
      "text/plain": [
       "array(['Winnie the Pooh'], dtype=object)"
      ]
     },
     "execution_count": 76,
     "metadata": {},
     "output_type": "execute_result"
    }
   ],
   "source": [
    "films[(films.runtime==films.runtime.min())].original_title.unique()"
   ]
  },
  {
   "cell_type": "markdown",
   "metadata": {
    "colab_type": "text",
    "id": "TfQbxbfNVp-p"
   },
   "source": [
    "# 4. Какова средняя длительность фильмов?\n"
   ]
  },
  {
   "cell_type": "code",
   "execution_count": 77,
   "metadata": {
    "colab": {},
    "colab_type": "code",
    "id": "5K6dKZYVVp-q"
   },
   "outputs": [],
   "source": [
    "answers['4'] = '110'\n",
    "# +"
   ]
  },
  {
   "cell_type": "code",
   "execution_count": 78,
   "metadata": {},
   "outputs": [
    {
     "data": {
      "text/plain": [
       "109.6585494970884"
      ]
     },
     "execution_count": 78,
     "metadata": {},
     "output_type": "execute_result"
    }
   ],
   "source": [
    "films.runtime.mean()"
   ]
  },
  {
   "cell_type": "markdown",
   "metadata": {
    "colab_type": "text",
    "id": "r5TvbnT_Vp-u"
   },
   "source": [
    "# 5. Каково медианное значение длительности фильмов? "
   ]
  },
  {
   "cell_type": "code",
   "execution_count": 79,
   "metadata": {
    "colab": {},
    "colab_type": "code",
    "id": "iBROplKnVp-v"
   },
   "outputs": [],
   "source": [
    "answers['5'] = '107'\n",
    "# +"
   ]
  },
  {
   "cell_type": "code",
   "execution_count": 80,
   "metadata": {},
   "outputs": [
    {
     "data": {
      "text/plain": [
       "107.0"
      ]
     },
     "execution_count": 80,
     "metadata": {},
     "output_type": "execute_result"
    }
   ],
   "source": [
    "films.runtime.median()"
   ]
  },
  {
   "cell_type": "markdown",
   "metadata": {
    "colab_type": "text",
    "id": "39P-deDSVp-y"
   },
   "source": [
    "# 6. Какой самый прибыльный фильм?\n",
    "#### Внимание! Здесь и далее под «прибылью» или «убытками» понимается разность между сборами и бюджетом фильма. (прибыль = сборы - бюджет) в нашем датасете это будет (profit = revenue - budget) "
   ]
  },
  {
   "cell_type": "code",
   "execution_count": 81,
   "metadata": {
    "colab": {},
    "colab_type": "code",
    "id": "UYZh4T9WVp-y"
   },
   "outputs": [],
   "source": [
    "answers['6'] = 'Avatar (tt0499549)'\n",
    "# +"
   ]
  },
  {
   "cell_type": "code",
   "execution_count": 82,
   "metadata": {},
   "outputs": [
    {
     "data": {
      "text/plain": [
       "array(['Avatar'], dtype=object)"
      ]
     },
     "execution_count": 82,
     "metadata": {},
     "output_type": "execute_result"
    }
   ],
   "source": [
    "films['profit']=films['revenue']-films['budget']\n",
    "films[(films.profit==films.profit.max())].original_title.unique()"
   ]
  },
  {
   "cell_type": "markdown",
   "metadata": {
    "colab_type": "text",
    "id": "M99JmIX4Vp-2"
   },
   "source": [
    "# 7. Какой фильм самый убыточный? "
   ]
  },
  {
   "cell_type": "code",
   "execution_count": 83,
   "metadata": {
    "colab": {},
    "colab_type": "code",
    "id": "w-D2m4XPVp-3"
   },
   "outputs": [],
   "source": [
    "answers['7'] = 'The Lone Ranger (tt1210819)'\n",
    "# +"
   ]
  },
  {
   "cell_type": "code",
   "execution_count": 84,
   "metadata": {},
   "outputs": [
    {
     "data": {
      "text/plain": [
       "array(['The Lone Ranger'], dtype=object)"
      ]
     },
     "execution_count": 84,
     "metadata": {},
     "output_type": "execute_result"
    }
   ],
   "source": [
    "films[(films.profit==films.profit.min())].original_title.unique()"
   ]
  },
  {
   "cell_type": "markdown",
   "metadata": {
    "colab_type": "text",
    "id": "wEOM5ERVVp-6"
   },
   "source": [
    "# 8. У скольких фильмов из датасета объем сборов оказался выше бюджета?"
   ]
  },
  {
   "cell_type": "code",
   "execution_count": 85,
   "metadata": {
    "colab": {},
    "colab_type": "code",
    "id": "y00_7HD6Vp-7"
   },
   "outputs": [],
   "source": [
    "answers['8'] = '1478'\n",
    "# +"
   ]
  },
  {
   "cell_type": "code",
   "execution_count": 86,
   "metadata": {},
   "outputs": [
    {
     "data": {
      "text/plain": [
       "1478"
      ]
     },
     "execution_count": 86,
     "metadata": {},
     "output_type": "execute_result"
    }
   ],
   "source": [
    "films[(films.revenue>films.budget)].original_title.count()"
   ]
  },
  {
   "cell_type": "markdown",
   "metadata": {
    "colab_type": "text",
    "id": "xhpspA9KVp_A"
   },
   "source": [
    "# 9. Какой фильм оказался самым кассовым в 2008 году?"
   ]
  },
  {
   "cell_type": "code",
   "execution_count": 87,
   "metadata": {
    "colab": {},
    "colab_type": "code",
    "id": "MoUyQr9RVp_B"
   },
   "outputs": [],
   "source": [
    "answers['9'] = 'The Dark Knight (tt0468569)'\n",
    "# +"
   ]
  },
  {
   "cell_type": "code",
   "execution_count": 88,
   "metadata": {},
   "outputs": [
    {
     "data": {
      "text/plain": [
       "array(['The Dark Knight'], dtype=object)"
      ]
     },
     "execution_count": 88,
     "metadata": {},
     "output_type": "execute_result"
    }
   ],
   "source": [
    "max_profit_in_2008 = films[(films.release_year==2008)].profit.max()\n",
    "films[(films.profit==max_profit_in_2008)].original_title.unique()"
   ]
  },
  {
   "cell_type": "markdown",
   "metadata": {
    "colab_type": "text",
    "id": "Zi4hDKidVp_F"
   },
   "source": [
    "# 10. Самый убыточный фильм за период с 2012 по 2014 г. (включительно)?\n"
   ]
  },
  {
   "cell_type": "code",
   "execution_count": 89,
   "metadata": {
    "colab": {},
    "colab_type": "code",
    "id": "XqyRmufJVp_F"
   },
   "outputs": [],
   "source": [
    "answers['10'] = 'The Lone Ranger (tt1210819)'\n",
    "# +"
   ]
  },
  {
   "cell_type": "code",
   "execution_count": 90,
   "metadata": {},
   "outputs": [
    {
     "data": {
      "text/plain": [
       "array(['The Lone Ranger'], dtype=object)"
      ]
     },
     "execution_count": 90,
     "metadata": {},
     "output_type": "execute_result"
    }
   ],
   "source": [
    "min_profit=films[(films.release_year>=2012)&(films.release_year<=2014)].profit.min()\n",
    "films[(films.profit==min_profit)].original_title.unique()"
   ]
  },
  {
   "cell_type": "markdown",
   "metadata": {
    "colab_type": "text",
    "id": "EA7Sa9dkVp_I"
   },
   "source": [
    "# 11. Какого жанра фильмов больше всего?"
   ]
  },
  {
   "cell_type": "code",
   "execution_count": 91,
   "metadata": {
    "colab": {},
    "colab_type": "code",
    "id": "zsJAwJ8QVp_J"
   },
   "outputs": [],
   "source": [
    "answers['11'] = 'Drama'\n",
    "# +"
   ]
  },
  {
   "cell_type": "code",
   "execution_count": 92,
   "metadata": {},
   "outputs": [
    {
     "data": {
      "text/plain": [
       "Drama              782\n",
       "Comedy             683\n",
       "Thriller           596\n",
       "Action             582\n",
       "Adventure          415\n",
       "Crime              315\n",
       "Romance            308\n",
       "Family             260\n",
       "Science Fiction    248\n",
       "Fantasy            222\n",
       "Horror             176\n",
       "Mystery            168\n",
       "Animation          139\n",
       "Music               64\n",
       "History             62\n",
       "War                 58\n",
       "Western             19\n",
       "Documentary          8\n",
       "Foreign              2\n",
       "Name: genres, dtype: int64"
      ]
     },
     "execution_count": 92,
     "metadata": {},
     "output_type": "execute_result"
    }
   ],
   "source": [
    "genres_count=films.copy()\n",
    "genres_count['genres']=genres_count.genres.str.split('|')\n",
    "genres_count=genres_count.explode('genres')\n",
    "genres_count.genres.value_counts()"
   ]
  },
  {
   "cell_type": "markdown",
   "metadata": {
    "colab_type": "text",
    "id": "T9_bPWpkVp_Q"
   },
   "source": [
    "# 12. Фильмы какого жанра чаще всего становятся прибыльными? "
   ]
  },
  {
   "cell_type": "code",
   "execution_count": 93,
   "metadata": {
    "colab": {},
    "colab_type": "code",
    "id": "Tmt8MaK1Vp_R"
   },
   "outputs": [],
   "source": [
    "answers['12'] = 'Drama'\n",
    "# +"
   ]
  },
  {
   "cell_type": "code",
   "execution_count": 94,
   "metadata": {},
   "outputs": [
    {
     "data": {
      "text/plain": [
       "Drama              560\n",
       "Comedy             551\n",
       "Thriller           446\n",
       "Action             444\n",
       "Adventure          337\n",
       "Romance            242\n",
       "Crime              231\n",
       "Family             226\n",
       "Science Fiction    195\n",
       "Fantasy            188\n",
       "Horror             150\n",
       "Animation          120\n",
       "Mystery            119\n",
       "Music               47\n",
       "History             46\n",
       "War                 41\n",
       "Western             12\n",
       "Documentary          7\n",
       "Name: genres, dtype: int64"
      ]
     },
     "execution_count": 94,
     "metadata": {},
     "output_type": "execute_result"
    }
   ],
   "source": [
    "genres_count[(genres_count.profit>0)].genres.value_counts()"
   ]
  },
  {
   "cell_type": "markdown",
   "metadata": {
    "colab_type": "text",
    "id": "0F23bgsDVp_U"
   },
   "source": [
    "# 13. У какого режиссера самые большие суммарные кассовые сборы?"
   ]
  },
  {
   "cell_type": "code",
   "execution_count": 95,
   "metadata": {
    "colab": {},
    "colab_type": "code",
    "id": "K6Z3J8ygVp_X"
   },
   "outputs": [],
   "source": [
    "answers['13'] = 'Peter Jackson'\n",
    "# +"
   ]
  },
  {
   "cell_type": "code",
   "execution_count": 96,
   "metadata": {},
   "outputs": [
    {
     "data": {
      "text/plain": [
       "director\n",
       "Peter Jackson        6490593685\n",
       "Christopher Nolan    4167548502\n",
       "David Yates          4154295625\n",
       "Michael Bay          3886938960\n",
       "J.J. Abrams          3579169916\n",
       "                        ...    \n",
       "David MichÃ´d           2295423\n",
       "Steven Shainberg        2281089\n",
       "Paul Schrader           2062066\n",
       "Keanu Reeves            2054941\n",
       "Simon Hunter            2033165\n",
       "Name: revenue, Length: 997, dtype: int64"
      ]
     },
     "execution_count": 96,
     "metadata": {},
     "output_type": "execute_result"
    }
   ],
   "source": [
    "director_data=films.copy()\n",
    "director_data['director']=director_data.director.str.split('|')\n",
    "director_data = director_data.explode(\"director\")\n",
    "director_data.groupby(['director'])['revenue'].sum().sort_values(ascending=False)"
   ]
  },
  {
   "cell_type": "markdown",
   "metadata": {
    "colab_type": "text",
    "id": "PsYC9FgRVp_a"
   },
   "source": [
    "# 14. Какой режисер снял больше всего фильмов в стиле Action?"
   ]
  },
  {
   "cell_type": "code",
   "execution_count": 97,
   "metadata": {
    "colab": {},
    "colab_type": "code",
    "id": "wd2M-wHeVp_b"
   },
   "outputs": [],
   "source": [
    "answers['14'] = 'Robert Rodriguez'\n",
    "# +"
   ]
  },
  {
   "cell_type": "code",
   "execution_count": 98,
   "metadata": {},
   "outputs": [
    {
     "data": {
      "text/plain": [
       "director\n",
       "Robert Rodriguez      9\n",
       "Paul W.S. Anderson    7\n",
       "Michael Bay           7\n",
       "Ridley Scott          6\n",
       "Antoine Fuqua         6\n",
       "                     ..\n",
       "Joe Cornish           1\n",
       "Roger Spottiswoode    1\n",
       "Jimmy Hayward         1\n",
       "Jim Gillespie         1\n",
       "Jon Avnet             1\n",
       "Name: original_title, Length: 364, dtype: int64"
      ]
     },
     "execution_count": 98,
     "metadata": {},
     "output_type": "execute_result"
    }
   ],
   "source": [
    "genres_count_dir=genres_count.copy()\n",
    "genres_count_dir['director']=genres_count_dir.director.str.split('|')\n",
    "genres_count_dir = genres_count_dir.explode(\"director\")\n",
    "genres_count_dir[(genres_count_dir.genres=='Action')].groupby(['director'])['original_title'].count().sort_values(ascending=False)"
   ]
  },
  {
   "cell_type": "markdown",
   "metadata": {
    "colab_type": "text",
    "id": "PQ0KciD7Vp_f"
   },
   "source": [
    "# 15. Фильмы с каким актером принесли самые высокие кассовые сборы в 2012 году? "
   ]
  },
  {
   "cell_type": "code",
   "execution_count": 99,
   "metadata": {
    "colab": {},
    "colab_type": "code",
    "id": "aga62oeKVp_g"
   },
   "outputs": [],
   "source": [
    "answers['15'] = 'Chris Hemsworth'\n",
    "# +"
   ]
  },
  {
   "cell_type": "code",
   "execution_count": 100,
   "metadata": {},
   "outputs": [
    {
     "data": {
      "text/plain": [
       "cast\n",
       "Chris Hemsworth      2027450773\n",
       "Denis Leary          1629460639\n",
       "Anne Hathaway        1522851057\n",
       "Chris Evans          1519557910\n",
       "Robert Downey Jr.    1519557910\n",
       "                        ...    \n",
       "Jason Bateman           3428048\n",
       "Danny Huston            2106557\n",
       "Sami Gayle              2106557\n",
       "Josh Lucas              2106557\n",
       "Nicolas Cage            2106557\n",
       "Name: revenue, Length: 466, dtype: int64"
      ]
     },
     "execution_count": 100,
     "metadata": {},
     "output_type": "execute_result"
    }
   ],
   "source": [
    "films=pd.read_csv('movie_bd_v5.csv')\n",
    "actor_data=films.copy()\n",
    "actor_data['cast']=actor_data.cast.str.split('|')\n",
    "actor_data=actor_data.explode('cast')\n",
    "actor_data[(actor_data.release_year==2012)].groupby(['cast'])['revenue'].sum().sort_values(ascending=False)"
   ]
  },
  {
   "cell_type": "markdown",
   "metadata": {
    "colab_type": "text",
    "id": "mWHyyL7QVp_j"
   },
   "source": [
    "# 16. Какой актер снялся в большем количестве высокобюджетных фильмов?"
   ]
  },
  {
   "cell_type": "code",
   "execution_count": 101,
   "metadata": {
    "colab": {},
    "colab_type": "code",
    "id": "qQtmHKTFVp_k"
   },
   "outputs": [],
   "source": [
    "answers['16'] = 'Matt Damon'\n",
    "# +"
   ]
  },
  {
   "cell_type": "code",
   "execution_count": 102,
   "metadata": {},
   "outputs": [
    {
     "data": {
      "text/plain": [
       "cast\n",
       "Matt Damon           18\n",
       "Adam Sandler         17\n",
       "Angelina Jolie       16\n",
       "Eddie Murphy         15\n",
       "Samuel L. Jackson    15\n",
       "                     ..\n",
       "Leslie Bibb           1\n",
       "Leonard Nimoy         1\n",
       "Lennie James          1\n",
       "Lena Olin             1\n",
       "50 Cent               1\n",
       "Name: imdb_id, Length: 1505, dtype: int64"
      ]
     },
     "execution_count": 102,
     "metadata": {},
     "output_type": "execute_result"
    }
   ],
   "source": [
    "actor_data[(actor_data.budget>actor_data.budget.mean())].groupby(['cast'])['imdb_id'].count().sort_values(ascending=False)"
   ]
  },
  {
   "cell_type": "markdown",
   "metadata": {
    "colab_type": "text",
    "id": "NIh6AaW5Vp_n"
   },
   "source": [
    "# 17. В фильмах какого жанра больше всего снимался Nicolas Cage? "
   ]
  },
  {
   "cell_type": "code",
   "execution_count": 103,
   "metadata": {
    "colab": {},
    "colab_type": "code",
    "id": "H74SJDIBVp_n"
   },
   "outputs": [],
   "source": [
    "answers['17'] = 'Action'\n",
    "# +"
   ]
  },
  {
   "cell_type": "code",
   "execution_count": 104,
   "metadata": {},
   "outputs": [
    {
     "data": {
      "text/plain": [
       "genres\n",
       "Action             17\n",
       "Thriller           15\n",
       "Drama              12\n",
       "Crime              10\n",
       "Fantasy             8\n",
       "Adventure           7\n",
       "Comedy              6\n",
       "Science Fiction     4\n",
       "Mystery             3\n",
       "Family              3\n",
       "Animation           3\n",
       "History             2\n",
       "War                 1\n",
       "Romance             1\n",
       "Horror              1\n",
       "Name: imdb_id, dtype: int64"
      ]
     },
     "execution_count": 104,
     "metadata": {},
     "output_type": "execute_result"
    }
   ],
   "source": [
    "films=pd.read_csv('movie_bd_v5.csv')\n",
    "nicolas=films.copy()\n",
    "nicolas['genres']=nicolas.genres.str.split('|')\n",
    "nicolas=nicolas.explode('genres')\n",
    "nicolas['cast']=nicolas.cast.str.split('|')\n",
    "nicolas=nicolas.explode('cast')\n",
    "nicolas[(nicolas.cast=='Nicolas Cage')].groupby(['genres'])['imdb_id'].count().sort_values(ascending=False)"
   ]
  },
  {
   "cell_type": "markdown",
   "metadata": {
    "colab_type": "text",
    "id": "RqOmPRfWVp_q"
   },
   "source": [
    "# 18. Самый убыточный фильм от Paramount Pictures"
   ]
  },
  {
   "cell_type": "code",
   "execution_count": 105,
   "metadata": {
    "colab": {},
    "colab_type": "code",
    "id": "9E_B0Y96Vp_r"
   },
   "outputs": [],
   "source": [
    "answers['18'] = 'K-19: The Widowmaker (tt0267626)'\n",
    "# +"
   ]
  },
  {
   "cell_type": "code",
   "execution_count": 106,
   "metadata": {},
   "outputs": [
    {
     "data": {
      "text/plain": [
       "array(['K-19: The Widowmaker'], dtype=object)"
      ]
     },
     "execution_count": 106,
     "metadata": {},
     "output_type": "execute_result"
    }
   ],
   "source": [
    "films=pd.read_csv('movie_bd_v5.csv')\n",
    "films_pr_company=films.copy()\n",
    "films_pr_company['production_companies']=films_pr_company.production_companies.str.split('|')\n",
    "films_pr_company=films_pr_company.explode('production_companies')\n",
    "\n",
    "films_pr_company['profit']=films_pr_company['revenue']-films_pr_company['budget']\n",
    "min_profit_Paramount = films_pr_company[(films_pr_company.production_companies=='Paramount Pictures')].profit.min()\n",
    "films_pr_company[(films_pr_company.profit==min_profit_Paramount)].original_title.unique()"
   ]
  },
  {
   "cell_type": "markdown",
   "metadata": {
    "colab_type": "text",
    "id": "vS8Ur6ddVp_u"
   },
   "source": [
    "# 19. Какой год стал самым успешным по суммарным кассовым сборам?"
   ]
  },
  {
   "cell_type": "code",
   "execution_count": 107,
   "metadata": {
    "colab": {},
    "colab_type": "code",
    "id": "Dnbt4GdIVp_v"
   },
   "outputs": [],
   "source": [
    "answers['19'] = '2015'\n",
    "# +"
   ]
  },
  {
   "cell_type": "code",
   "execution_count": 108,
   "metadata": {},
   "outputs": [
    {
     "data": {
      "text/plain": [
       "release_year\n",
       "2015    25449202382\n",
       "2014    23405862953\n",
       "2013    23213799791\n",
       "2012    23079001687\n",
       "2011    22676791872\n",
       "2010    21071204961\n",
       "2009    20261791024\n",
       "2008    18252781990\n",
       "2007    18162406801\n",
       "2004    15663430720\n",
       "2005    15309425558\n",
       "2006    14775042320\n",
       "2003    14346123312\n",
       "2002    14136361487\n",
       "2001    13017764865\n",
       "2000    10664099805\n",
       "Name: revenue, dtype: int64"
      ]
     },
     "execution_count": 108,
     "metadata": {},
     "output_type": "execute_result"
    }
   ],
   "source": [
    "best_year=films.groupby(['release_year'])['revenue'].sum().sort_values(ascending=False)\n",
    "best_year"
   ]
  },
  {
   "cell_type": "markdown",
   "metadata": {
    "colab_type": "text",
    "id": "JAzJh4QAVp_z"
   },
   "source": [
    "# 20. Какой самый прибыльный год для студии Warner Bros?"
   ]
  },
  {
   "cell_type": "code",
   "execution_count": 109,
   "metadata": {
    "colab": {},
    "colab_type": "code",
    "id": "wgVu02DEVp_0"
   },
   "outputs": [],
   "source": [
    "answers['20'] = '2014'\n",
    "# +"
   ]
  },
  {
   "cell_type": "code",
   "execution_count": 110,
   "metadata": {},
   "outputs": [
    {
     "name": "stdout",
     "output_type": "stream",
     "text": [
      "Warner Bros.\n",
      "Warner Bros. Animation\n",
      "Warner Bros. Interactive Entertainment\n",
      "Warner Bros. Pictures\n",
      "Warner Independent Pictures (WIP)\n"
     ]
    },
    {
     "data": {
      "text/plain": [
       "release_year\n",
       "2014    2292949646\n",
       "2007    2201675217\n",
       "2008    2134595031\n",
       "2010    1974712985\n",
       "2011    1871393682\n",
       "2003    1844008221\n",
       "2009    1822454136\n",
       "2013    1636453400\n",
       "2004    1631933725\n",
       "2005    1551980298\n",
       "2001    1282142579\n",
       "2012    1258020056\n",
       "2002    1022709901\n",
       "2015     870368348\n",
       "2006     625351872\n",
       "2000     452631386\n",
       "Name: profit, dtype: int64"
      ]
     },
     "execution_count": 110,
     "metadata": {},
     "output_type": "execute_result"
    }
   ],
   "source": [
    "s=films_pr_company['production_companies'].unique()\n",
    "for i in s:\n",
    "    if \"warn\" in i.lower():\n",
    "        print (i)\n",
    "films_pr_company[(films_pr_company.production_companies.str.contains('Warner Bros'))].groupby(['release_year'])['profit'].sum().sort_values(ascending=False)\n"
   ]
  },
  {
   "cell_type": "markdown",
   "metadata": {
    "colab_type": "text",
    "id": "8Im1S2HRVp_4"
   },
   "source": [
    "# 21. В каком месяце за все годы суммарно вышло больше всего фильмов?"
   ]
  },
  {
   "cell_type": "code",
   "execution_count": 111,
   "metadata": {
    "colab": {},
    "colab_type": "code",
    "id": "lev6TH7gVp_4"
   },
   "outputs": [],
   "source": [
    "answers['21'] = 'Сентябрь'\n",
    "# +"
   ]
  },
  {
   "cell_type": "code",
   "execution_count": 112,
   "metadata": {},
   "outputs": [
    {
     "data": {
      "text/plain": [
       "release_month\n",
       "September    227\n",
       "December     190\n",
       "October      186\n",
       "August       161\n",
       "March        156\n",
       "April        149\n",
       "June         147\n",
       "November     146\n",
       "July         142\n",
       "May          140\n",
       "February     135\n",
       "January      110\n",
       "Name: imdb_id, dtype: int64"
      ]
     },
     "execution_count": 112,
     "metadata": {},
     "output_type": "execute_result"
    }
   ],
   "source": [
    "films=pd.read_csv('movie_bd_v5.csv')\n",
    "films['release_month']=pd.to_datetime(films.release_date, format=\"%m/%d/%Y\").dt.strftime(\"%B\")\n",
    "films.groupby(['release_month'])['imdb_id'].count().sort_values(ascending=False)"
   ]
  },
  {
   "cell_type": "markdown",
   "metadata": {
    "colab_type": "text",
    "id": "uAJsZ_NeVp_7"
   },
   "source": [
    "# 22. Сколько суммарно вышло фильмов летом? (за июнь, июль, август)"
   ]
  },
  {
   "cell_type": "code",
   "execution_count": 113,
   "metadata": {
    "colab": {},
    "colab_type": "code",
    "id": "Aa-hEREoVp_8"
   },
   "outputs": [],
   "source": [
    "answers['22'] = '450'\n",
    "# +"
   ]
  },
  {
   "cell_type": "code",
   "execution_count": 114,
   "metadata": {},
   "outputs": [
    {
     "data": {
      "text/plain": [
       "450"
      ]
     },
     "execution_count": 114,
     "metadata": {},
     "output_type": "execute_result"
    }
   ],
   "source": [
    "films[(films.release_month=='June')|(films.release_month=='July')|(films.release_month=='August')].imdb_id.count()"
   ]
  },
  {
   "cell_type": "markdown",
   "metadata": {
    "colab_type": "text",
    "id": "G94ppOY1VqAA"
   },
   "source": [
    "# 23. Для какого режиссера зима – самое продуктивное время года? "
   ]
  },
  {
   "cell_type": "code",
   "execution_count": 115,
   "metadata": {
    "colab": {},
    "colab_type": "code",
    "id": "RhNTsamuVqAB"
   },
   "outputs": [],
   "source": [
    "answers['23'] = 'Peter Jackson'\n",
    "# +"
   ]
  },
  {
   "cell_type": "code",
   "execution_count": 116,
   "metadata": {},
   "outputs": [
    {
     "data": {
      "text/plain": [
       "director\n",
       "Peter Jackson            7\n",
       "Steven Soderbergh        6\n",
       "Clint Eastwood           6\n",
       "Martin Scorsese          4\n",
       "Adam Shankman            4\n",
       "                        ..\n",
       "Matt Bettinelli-Olpin    1\n",
       "Matt Reeves              1\n",
       "Matthew O'Callaghan      1\n",
       "Matthew Vaughn           1\n",
       "Jon Avnet                1\n",
       "Name: imdb_id, Length: 358, dtype: int64"
      ]
     },
     "execution_count": 116,
     "metadata": {},
     "output_type": "execute_result"
    }
   ],
   "source": [
    "films=pd.read_csv('movie_bd_v5.csv')\n",
    "films['release_month']=pd.to_datetime(films.release_date, format=\"%m/%d/%Y\").dt.strftime(\"%B\")\n",
    "films['director']=films.director.str.split('|')\n",
    "films = films.explode(\"director\")\n",
    "films[(films.release_month=='December')|(films.release_month=='January')|(films.release_month=='February')].groupby(['director'])['imdb_id'].count().sort_values(ascending=False)"
   ]
  },
  {
   "cell_type": "markdown",
   "metadata": {
    "colab_type": "text",
    "id": "RBo0JVjVVqAF"
   },
   "source": [
    "# 24. Какая студия дает самые длинные названия своим фильмам по количеству символов?"
   ]
  },
  {
   "cell_type": "code",
   "execution_count": 117,
   "metadata": {
    "colab": {},
    "colab_type": "code",
    "id": "QRGS8L0iVqAG"
   },
   "outputs": [],
   "source": [
    "answers['24'] = 'Four By Two Productions'\n",
    "# +"
   ]
  },
  {
   "cell_type": "code",
   "execution_count": 118,
   "metadata": {},
   "outputs": [
    {
     "data": {
      "text/plain": [
       "production_companies\n",
       "Four By Two Productions       83.0\n",
       "Jim Henson Company, The       59.0\n",
       "Dos Corazones                 47.0\n",
       "Museum Canada Productions     46.0\n",
       "Polsky Films                  46.0\n",
       "                              ... \n",
       "Everest Entertainment          3.0\n",
       "Berlanti Productions           3.0\n",
       "XM2 Productions                2.0\n",
       "Ixtlan Productions             2.0\n",
       "Global Entertainment Group     2.0\n",
       "Name: name_lenth, Length: 1771, dtype: float64"
      ]
     },
     "execution_count": 118,
     "metadata": {},
     "output_type": "execute_result"
    }
   ],
   "source": [
    "films=pd.read_csv('movie_bd_v5.csv')\n",
    "films['production_companies']=films.production_companies.str.split('|')\n",
    "films=films.explode('production_companies')\n",
    "\n",
    "films['name_lenth']=films.original_title.str.len()\n",
    "films.groupby(['production_companies'])['name_lenth'].mean().sort_values(ascending=False)"
   ]
  },
  {
   "cell_type": "markdown",
   "metadata": {
    "colab_type": "text",
    "id": "9G0hbvR7VqAK"
   },
   "source": [
    "# 25. Описание фильмов какой студии в среднем самые длинные по количеству слов?"
   ]
  },
  {
   "cell_type": "code",
   "execution_count": 119,
   "metadata": {
    "colab": {},
    "colab_type": "code",
    "id": "Ge2GsLNxVqAK"
   },
   "outputs": [],
   "source": [
    "answers['25'] = 'Midnight Picture Show'\n",
    "# +"
   ]
  },
  {
   "cell_type": "code",
   "execution_count": 120,
   "metadata": {},
   "outputs": [
    {
     "data": {
      "text/plain": [
       "production_companies\n",
       "Midnight Picture Show                    175.0\n",
       "Room 9 Entertainment                     161.0\n",
       "98 MPH Productions                       159.0\n",
       "Heineken Branded Entertainment           159.0\n",
       "Brookwell-McNamara Entertainment         156.0\n",
       "                                         ...  \n",
       "London Boulevard                          13.0\n",
       "Phantom Four                              13.0\n",
       "Henceforth                                13.0\n",
       "Empire Pictures                           11.0\n",
       "Motion Picture Corporation of America     11.0\n",
       "Name: number_of_words, Length: 1771, dtype: float64"
      ]
     },
     "execution_count": 120,
     "metadata": {},
     "output_type": "execute_result"
    }
   ],
   "source": [
    "films ['number_of_words']=films['overview'].str.split().str.len()\n",
    "films.groupby(['production_companies'])['number_of_words'].mean().sort_values(ascending=False)"
   ]
  },
  {
   "cell_type": "markdown",
   "metadata": {
    "colab_type": "text",
    "id": "FJ1AFt90VqAP"
   },
   "source": [
    "# 26. Какие фильмы входят в 1 процент лучших по рейтингу? \n",
    "по vote_average"
   ]
  },
  {
   "cell_type": "code",
   "execution_count": 121,
   "metadata": {
    "colab": {},
    "colab_type": "code",
    "id": "8qmJVq4CVqAQ"
   },
   "outputs": [],
   "source": [
    "answers['26'] = 'Inside Out, The Dark Knight, 12 Years a Slave'\n",
    "# +"
   ]
  },
  {
   "cell_type": "code",
   "execution_count": 122,
   "metadata": {},
   "outputs": [
    {
     "data": {
      "text/plain": [
       "original_title\n",
       "The Dark Knight                                  8.1\n",
       "The Imitation Game                               8.0\n",
       "Room                                             8.0\n",
       "Interstellar                                     8.0\n",
       "Inside Out                                       8.0\n",
       "The Wolf of Wall Street                          7.9\n",
       "The Pianist                                      7.9\n",
       "The Lord of the Rings: The Return of the King    7.9\n",
       "The Grand Budapest Hotel                         7.9\n",
       "Memento                                          7.9\n",
       "Inception                                        7.9\n",
       "Guardians of the Galaxy                          7.9\n",
       "Gone Girl                                        7.9\n",
       "12 Years a Slave                                 7.9\n",
       "Name: vote_average, dtype: float64"
      ]
     },
     "execution_count": 122,
     "metadata": {},
     "output_type": "execute_result"
    }
   ],
   "source": [
    "films=pd.read_csv('movie_bd_v5.csv')\n",
    "percentile99=np.percentile(films.vote_average,99)\n",
    "films[(films.vote_average>percentile99)].groupby(['original_title'])['vote_average'].sum().sort_values(ascending=False)"
   ]
  },
  {
   "cell_type": "markdown",
   "metadata": {
    "colab_type": "text",
    "id": "MdXsUXbCVqAV"
   },
   "source": [
    "# 27. Какие актеры чаще всего снимаются в одном фильме вместе?\n"
   ]
  },
  {
   "cell_type": "code",
   "execution_count": 123,
   "metadata": {},
   "outputs": [],
   "source": [
    "answers['27'] = 'Daniel Radcliffe & Rupert Grint'\n",
    "# +"
   ]
  },
  {
   "cell_type": "code",
   "execution_count": 124,
   "metadata": {},
   "outputs": [
    {
     "data": {
      "text/plain": [
       "{'Daniel Radcliffe|Emma Watson': 8,\n",
       " 'Daniel Radcliffe|Rupert Grint': 8,\n",
       " 'Rupert Grint|Emma Watson': 7,\n",
       " 'Johnny Depp|Helena Bonham Carter': 6,\n",
       " 'Ben Stiller|Owen Wilson': 6,\n",
       " 'Robert Pattinson|Taylor Lautner': 5,\n",
       " 'Kristen Stewart|Taylor Lautner': 5,\n",
       " 'Kristen Stewart|Robert Pattinson': 5,\n",
       " 'Hugh Jackman|Ian McKellen': 5,\n",
       " 'Adam Sandler|Kevin James': 5,\n",
       " 'Christian Bale|Michael Caine': 4,\n",
       " 'Hugh Jackman|Halle Berry': 4,\n",
       " 'George Clooney|Brad Pitt': 4,\n",
       " 'Taylor Lautner|Peter Facinelli': 4,\n",
       " 'Robert Pattinson|Peter Facinelli': 4,\n",
       " 'Kristen Stewart|Peter Facinelli': 4,\n",
       " 'Eddie Murphy|Cameron Diaz': 4,\n",
       " 'Mike Myers|Cameron Diaz': 4,\n",
       " 'Mike Myers|Eddie Murphy': 4,\n",
       " 'Paul Walker|Jordana Brewster': 4,\n",
       " 'Vin Diesel|Jordana Brewster': 4,\n",
       " 'Costas Mandylor|Betsy Russell': 4,\n",
       " 'Tobin Bell|Betsy Russell': 4,\n",
       " 'Tobin Bell|Costas Mandylor': 4,\n",
       " 'Liam Hemsworth|Woody Harrelson': 4,\n",
       " 'Josh Hutcherson|Woody Harrelson': 4,\n",
       " 'Josh Hutcherson|Liam Hemsworth': 4,\n",
       " 'Jennifer Lawrence|Woody Harrelson': 4,\n",
       " 'Jennifer Lawrence|Liam Hemsworth': 4,\n",
       " 'Jennifer Lawrence|Josh Hutcherson': 4,\n",
       " 'Bruce Willis|Kevin Pollak': 3,\n",
       " 'Owen Wilson|Vince Vaughn': 3,\n",
       " 'Halle Berry|Famke Janssen': 3,\n",
       " 'Ian McKellen|Famke Janssen': 3,\n",
       " 'Hugh Jackman|Famke Janssen': 3,\n",
       " 'Patrick Stewart|Famke Janssen': 3,\n",
       " 'Orlando Bloom|Keira Knightley': 3,\n",
       " 'Johnny Depp|Keira Knightley': 3,\n",
       " 'Johnny Depp|Orlando Bloom': 3,\n",
       " 'Ice Cube|Mike Epps': 3,\n",
       " 'Denzel Washington|Kimberly Elise': 3,\n",
       " 'Tim Allen|Spencer Breslin': 3,\n",
       " 'Kirsten Dunst|James Franco': 3,\n",
       " 'Tobey Maguire|James Franco': 3,\n",
       " 'Tobey Maguire|Kirsten Dunst': 3,\n",
       " 'John Leguizamo|Denis Leary': 3,\n",
       " 'Ray Romano|Denis Leary': 3,\n",
       " 'Johnny Depp|Bill Nighy': 3,\n",
       " 'Johnny Depp|Geoffrey Rush': 3,\n",
       " 'John Cho|Kal Penn': 3,\n",
       " 'Jason Statham|FranÃ§ois BerlÃ©and': 3,\n",
       " 'Hayden Christensen|Samuel L. Jackson': 3,\n",
       " 'Ron Perlman|John Hurt': 3,\n",
       " 'Ben Stiller|Chris Rock': 3,\n",
       " 'Ben Stiller|David Schwimmer': 3,\n",
       " 'Jack Black|Angelina Jolie': 3,\n",
       " 'Daniel Craig|Judi Dench': 3,\n",
       " 'Michael Caine|Gary Oldman': 3,\n",
       " 'Christian Bale|Gary Oldman': 3,\n",
       " 'Antonio Banderas|Carla Gugino': 3,\n",
       " 'Alexa PenaVega|Daryl Sabara': 3,\n",
       " 'Jason Biggs|Seann William Scott': 3,\n",
       " 'Jason Biggs|Thomas Ian Nicholas': 3,\n",
       " 'Brad Pitt|Julia Roberts': 3,\n",
       " 'George Clooney|Matt Damon': 3,\n",
       " 'Liv Tyler|Orlando Bloom': 3,\n",
       " 'Viggo Mortensen|Orlando Bloom': 3,\n",
       " 'Viggo Mortensen|Liv Tyler': 3,\n",
       " 'Ian McKellen|Orlando Bloom': 3,\n",
       " 'Ian McKellen|Liv Tyler': 3,\n",
       " 'Ian McKellen|Viggo Mortensen': 3,\n",
       " 'Elijah Wood|Orlando Bloom': 3,\n",
       " 'Elijah Wood|Liv Tyler': 3,\n",
       " 'Elijah Wood|Viggo Mortensen': 3,\n",
       " 'Elijah Wood|Ian McKellen': 3,\n",
       " 'Steve Carell|Paul Rudd': 3,\n",
       " 'Cameron Diaz|Julie Andrews': 3,\n",
       " 'Cameron Diaz|Antonio Banderas': 3,\n",
       " 'Eddie Murphy|Julie Andrews': 3,\n",
       " 'Eddie Murphy|Antonio Banderas': 3,\n",
       " 'Mike Myers|Julie Andrews': 3,\n",
       " 'Mike Myers|Antonio Banderas': 3,\n",
       " 'Skandar Keynes|Georgie Henley': 3,\n",
       " 'Rupert Grint|Ralph Fiennes': 3,\n",
       " 'Emma Watson|Ralph Fiennes': 3,\n",
       " 'Daniel Radcliffe|Ralph Fiennes': 3,\n",
       " 'Robert Downey Jr.|Gwyneth Paltrow': 3,\n",
       " 'Shia LaBeouf|Josh Duhamel': 3,\n",
       " 'Paul Rudd|Jason Segel': 3,\n",
       " 'Jason Lee|Justin Long': 3,\n",
       " 'David Cross|Justin Long': 3,\n",
       " 'Bradley Cooper|Ken Jeong': 3,\n",
       " 'Taylor Lautner|Ashley Greene': 3,\n",
       " 'Robert Pattinson|Ashley Greene': 3,\n",
       " 'Kristen Stewart|Ashley Greene': 3,\n",
       " 'Zach Galifianakis|Justin Bartha': 3,\n",
       " 'Ed Helms|Justin Bartha': 3,\n",
       " 'Ed Helms|Zach Galifianakis': 3,\n",
       " 'Bradley Cooper|Justin Bartha': 3,\n",
       " 'Bradley Cooper|Zach Galifianakis': 3,\n",
       " 'Bradley Cooper|Ed Helms': 3,\n",
       " 'Russell Crowe|Jennifer Connelly': 3,\n",
       " 'Sylvester Stallone|Arnold Schwarzenegger': 3,\n",
       " 'Sylvester Stallone|Jason Statham': 3,\n",
       " 'Patrick Stewart|Ian McKellen': 3,\n",
       " 'Ben Stiller|Robin Williams': 3,\n",
       " 'Ian McKellen|Richard Armitage': 3,\n",
       " 'Martin Freeman|Richard Armitage': 3,\n",
       " 'Adam Sandler|Steve Buscemi': 3,\n",
       " 'Johnny Depp|Paul Bettany': 3,\n",
       " 'Mark Wahlberg|Giovanni Ribisi': 3,\n",
       " 'Tom Cruise|Ving Rhames': 3,\n",
       " 'Woody Harrelson|Elizabeth Banks': 3,\n",
       " 'Liam Hemsworth|Elizabeth Banks': 3,\n",
       " 'Josh Hutcherson|Elizabeth Banks': 3,\n",
       " 'Jennifer Lawrence|Elizabeth Banks': 3,\n",
       " 'Liam Neeson|Famke Janssen': 3,\n",
       " 'Liam Neeson|Maggie Grace': 3,\n",
       " 'Chris Evans|Scarlett Johansson': 3,\n",
       " 'Robert Downey Jr.|Scarlett Johansson': 3,\n",
       " 'Robert Downey Jr.|Mark Ruffalo': 3,\n",
       " 'Paul Walker|Dwayne Johnson': 3,\n",
       " 'Paul Walker|Michelle Rodriguez': 3,\n",
       " 'Vin Diesel|Dwayne Johnson': 3,\n",
       " 'Vin Diesel|Michelle Rodriguez': 3,\n",
       " 'Vin Diesel|Paul Walker': 3,\n",
       " 'Nicole Kidman|Daniel Craig': 2,\n",
       " 'Jennifer Garner|Jason Bateman': 2,\n",
       " 'Matthew Perry|Kevin Pollak': 2,\n",
       " 'Bruce Willis|Matthew Perry': 2,\n",
       " 'Michael Moore|George W. Bush': 2,\n",
       " 'Ben Stiller|Robert De Niro': 2,\n",
       " 'Ben Stiller|Teri Polo': 2,\n",
       " 'Milla Jovovich|Oded Fehr': 2,\n",
       " 'Julie Andrews|Antonio Banderas': 2,\n",
       " 'Nicolas Cage|Jon Voight': 2,\n",
       " 'Nicolas Cage|Diane Kruger': 2,\n",
       " 'Matt Damon|Julia Stiles': 2,\n",
       " 'Adam Campbell|Jennifer Coolidge': 2,\n",
       " 'Martin Lawrence|Nia Long': 2,\n",
       " 'Anna Faris|Regina Hall': 2,\n",
       " 'Ian McKellen|Jean Reno': 2,\n",
       " 'Daniel Craig|Jeffrey Wright': 2,\n",
       " 'Daniel Craig|Eva Green': 2,\n",
       " 'Keira Knightley|Bill Nighy': 2,\n",
       " 'Orlando Bloom|Bill Nighy': 2,\n",
       " 'Joaquin Phoenix|Robert Patrick': 2,\n",
       " 'Jim Carrey|Richard Jenkins': 2,\n",
       " 'Michael Chiklis|Julian McMahon': 2,\n",
       " 'Chris Evans|Julian McMahon': 2,\n",
       " 'Chris Evans|Michael Chiklis': 2,\n",
       " 'Jessica Alba|Julian McMahon': 2,\n",
       " 'Jessica Alba|Michael Chiklis': 2,\n",
       " 'Jessica Alba|Chris Evans': 2,\n",
       " 'Ioan Gruffudd|Julian McMahon': 2,\n",
       " 'Ioan Gruffudd|Michael Chiklis': 2,\n",
       " 'Ioan Gruffudd|Chris Evans': 2,\n",
       " 'Ioan Gruffudd|Jessica Alba': 2,\n",
       " 'Johnny Depp|Freddie Highmore': 2,\n",
       " 'Emma Watson|Michael Gambon': 2,\n",
       " 'Rupert Grint|Michael Gambon': 2,\n",
       " 'Daniel Radcliffe|Michael Gambon': 2,\n",
       " 'Christian Bale|Willem Dafoe': 2,\n",
       " 'Cate Blanchett|Alec Baldwin': 2,\n",
       " 'Christina Applegate|David Koechner': 2,\n",
       " 'Paul Rudd|David Koechner': 2,\n",
       " 'Will Ferrell|David Koechner': 2,\n",
       " 'Will Ferrell|Christina Applegate': 2,\n",
       " 'Will Ferrell|Paul Rudd': 2,\n",
       " 'Will Ferrell|Steve Carell': 2,\n",
       " 'Jonah Hill|Seth Rogen': 2,\n",
       " 'Adam Sandler|Chris Rock': 2,\n",
       " 'Matthew McConaughey|Steve Zahn': 2,\n",
       " 'Denzel Washington|Paula Patton': 2,\n",
       " 'Vin Diesel|Karl Urban': 2,\n",
       " 'Guy Pearce|Ben Kingsley': 2,\n",
       " 'Ian McKellen|Halle Berry': 2,\n",
       " 'Patrick Stewart|Halle Berry': 2,\n",
       " 'Patrick Stewart|Hugh Jackman': 2,\n",
       " 'Frankie Muniz|Cynthia Stevenson': 2,\n",
       " 'Steve Martin|Eugene Levy': 2,\n",
       " 'George Clooney|Catherine Zeta-Jones': 2,\n",
       " 'Jet Li|DMX': 2,\n",
       " 'Bonnie Hunt|Tom Welling': 2,\n",
       " 'Steve Martin|Tom Welling': 2,\n",
       " 'Steve Martin|Bonnie Hunt': 2,\n",
       " 'Ali Larter|Tony Todd': 2,\n",
       " 'Cameron Diaz|Lucy Liu': 2,\n",
       " 'Cameron Diaz|Drew Barrymore': 2,\n",
       " 'Carrie-Anne Moss|Hugo Weaving': 2,\n",
       " 'Laurence Fishburne|Hugo Weaving': 2,\n",
       " 'Keanu Reeves|Hugo Weaving': 2,\n",
       " 'Keanu Reeves|Carrie-Anne Moss': 2,\n",
       " 'Keanu Reeves|Laurence Fishburne': 2,\n",
       " 'Uma Thurman|David Carradine': 2,\n",
       " 'Uma Thurman|Daryl Hannah': 2,\n",
       " 'Keira Knightley|Jack Davenport': 2,\n",
       " 'Orlando Bloom|Jack Davenport': 2,\n",
       " 'Johnny Depp|Jack Davenport': 2,\n",
       " 'Scott Speedman|Shane Brolly': 2,\n",
       " 'Kate Beckinsale|Shane Brolly': 2,\n",
       " 'Kate Beckinsale|Scott Speedman': 2,\n",
       " 'Milla Jovovich|Sienna Guillory': 2,\n",
       " 'Richard Gere|Susan Sarandon': 2,\n",
       " 'Leslie Mann|Jason Segel': 2,\n",
       " 'Philip Seymour Hoffman|Amy Adams': 2,\n",
       " 'Joaquin Phoenix|Amy Adams': 2,\n",
       " 'Ben Stiller|Sacha Baron Cohen': 2,\n",
       " 'Mark Wahlberg|Ben Foster': 2,\n",
       " 'Adam Sandler|David Spade': 2,\n",
       " 'Seann William Scott|Thomas Ian Nicholas': 2,\n",
       " 'Alyson Hannigan|Thomas Ian Nicholas': 2,\n",
       " 'Alyson Hannigan|Seann William Scott': 2,\n",
       " 'Jason Biggs|Alyson Hannigan': 2,\n",
       " 'Kate Beckinsale|Bill Nighy': 2,\n",
       " 'Tommy Lee Jones|Josh Brolin': 2,\n",
       " 'Denis Leary|Seann William Scott': 2,\n",
       " 'Ray Romano|Seann William Scott': 2,\n",
       " 'John Leguizamo|Seann William Scott': 2,\n",
       " 'Bradley Cooper|Jennifer Lawrence': 2,\n",
       " 'Jamie Foxx|Kerry Washington': 2,\n",
       " 'Chris Rock|Kerry Washington': 2,\n",
       " 'Bruce Willis|Cole Hauser': 2,\n",
       " 'John Witherspoon|Don Curry': 2,\n",
       " 'Mike Epps|Don Curry': 2,\n",
       " 'Mike Epps|John Witherspoon': 2,\n",
       " 'Ice Cube|Don Curry': 2,\n",
       " 'Ice Cube|John Witherspoon': 2,\n",
       " 'Carla Gugino|Daryl Sabara': 2,\n",
       " 'Carla Gugino|Alexa PenaVega': 2,\n",
       " 'Antonio Banderas|Daryl Sabara': 2,\n",
       " 'Antonio Banderas|Alexa PenaVega': 2,\n",
       " 'Cedric the Entertainer|Sean Patrick Thomas': 2,\n",
       " 'Ice Cube|Sean Patrick Thomas': 2,\n",
       " 'Ice Cube|Cedric the Entertainer': 2,\n",
       " 'Meryl Streep|Chris Cooper': 2,\n",
       " 'Steve-O|Chris Pontius': 2,\n",
       " 'Bam Margera|Chris Pontius': 2,\n",
       " 'Bam Margera|Steve-O': 2,\n",
       " 'Johnny Knoxville|Chris Pontius': 2,\n",
       " 'Johnny Knoxville|Steve-O': 2,\n",
       " 'Johnny Knoxville|Bam Margera': 2,\n",
       " 'Wesley Snipes|Kris Kristofferson': 2,\n",
       " 'Jennifer Lopez|Stanley Tucci': 2,\n",
       " 'Adrien Brody|Thomas Kretschmann': 2,\n",
       " 'Tom Hanks|Amy Adams': 2,\n",
       " 'Leonardo DiCaprio|Martin Sheen': 2,\n",
       " 'Ian McDiarmid|Samuel L. Jackson': 2,\n",
       " 'Hayden Christensen|Ian McDiarmid': 2,\n",
       " 'Natalie Portman|Samuel L. Jackson': 2,\n",
       " 'Natalie Portman|Ian McDiarmid': 2,\n",
       " 'Natalie Portman|Hayden Christensen': 2,\n",
       " 'Ewan McGregor|Samuel L. Jackson': 2,\n",
       " 'Ewan McGregor|Ian McDiarmid': 2,\n",
       " 'Ewan McGregor|Hayden Christensen': 2,\n",
       " 'Ewan McGregor|Natalie Portman': 2,\n",
       " 'Milla Jovovich|Michelle Rodriguez': 2,\n",
       " 'Franka Potente|Brian Cox': 2,\n",
       " 'Matt Damon|Brian Cox': 2,\n",
       " 'Matt Damon|Chris Cooper': 2,\n",
       " 'Matt Damon|Franka Potente': 2,\n",
       " 'Ray Romano|John Leguizamo': 2,\n",
       " 'Dwayne Johnson|Jordana Brewster': 2,\n",
       " 'Paul Walker|Tyrese Gibson': 2,\n",
       " 'Viggo Mortensen|Vincent Cassel': 2,\n",
       " 'Katie Featherston|Sprague Grayden': 2,\n",
       " 'Philip Seymour Hoffman|Marisa Tomei': 2,\n",
       " 'James McAvoy|Julie Walters': 2,\n",
       " 'James McAvoy|Maggie Smith': 2,\n",
       " 'Cate Blanchett|Tom Hollander': 2,\n",
       " 'Neil Patrick Harris|Hank Azaria': 2,\n",
       " 'Jason Lee|David Cross': 2,\n",
       " 'Devon Bostick|Steve Zahn': 2,\n",
       " 'Devon Bostick|Rachael Harris': 2,\n",
       " 'Neve Campbell|Courteney Cox': 2,\n",
       " 'David Arquette|Courteney Cox': 2,\n",
       " 'David Arquette|Neve Campbell': 2,\n",
       " 'Robin Williams|Johnny A. Sanchez': 2,\n",
       " 'Robert De Niro|Katherine Heigl': 2,\n",
       " 'Kate Winslet|Jude Law': 2,\n",
       " 'Antonio Banderas|Salma Hayek': 2,\n",
       " 'Tom Hanks|Julia Roberts': 2,\n",
       " 'Jim Cummings|Craig Ferguson': 2,\n",
       " 'Jim Cummings|Bud Luckey': 2,\n",
       " 'Matthew McConaughey|William H. Macy': 2,\n",
       " 'Asa Butterfield|Ben Kingsley': 2,\n",
       " 'Justin Bartha|Ken Jeong': 2,\n",
       " 'Zach Galifianakis|Ken Jeong': 2,\n",
       " 'Ed Helms|Ken Jeong': 2,\n",
       " 'Bradley Cooper|Robert De Niro': 2,\n",
       " 'Ryan Gosling|Marisa Tomei': 2,\n",
       " 'Ryan Gosling|Emma Stone': 2,\n",
       " 'Tom Hiddleston|Anthony Hopkins': 2,\n",
       " 'Natalie Portman|Anthony Hopkins': 2,\n",
       " 'Natalie Portman|Tom Hiddleston': 2,\n",
       " 'Chris Hemsworth|Anthony Hopkins': 2,\n",
       " 'Chris Hemsworth|Tom Hiddleston': 2,\n",
       " 'Chris Hemsworth|Natalie Portman': 2,\n",
       " 'Bruce Willis|Robin Wright': 2,\n",
       " 'Cheryl Hines|Jeff Daniels': 2,\n",
       " 'Sean Penn|Josh Brolin': 2,\n",
       " 'Adam Sandler|John Turturro': 2,\n",
       " 'Robert De Niro|Carla Gugino': 2,\n",
       " 'Steve Carell|Seth Rogen': 2,\n",
       " 'Javier Bardem|PenÃ©lope Cruz': 2,\n",
       " 'Scott Patterson|Betsy Russell': 2,\n",
       " 'Tobin Bell|Scott Patterson': 2,\n",
       " 'Kal Penn|Neil Patrick Harris': 2,\n",
       " 'John Cho|Neil Patrick Harris': 2,\n",
       " 'Angelina Jolie|John Malkovich': 2,\n",
       " 'Paul Rudd|Elizabeth Banks': 2,\n",
       " 'Mark Wahlberg|Mila Kunis': 2,\n",
       " 'James Franco|Danny McBride': 2,\n",
       " 'Seth Rogen|Danny McBride': 2,\n",
       " 'Will Ferrell|Mary Steenburgen': 2,\n",
       " 'Will Ferrell|John C. Reilly': 2,\n",
       " 'George Clooney|Richard Jenkins': 2,\n",
       " 'George Clooney|Tilda Swinton': 2,\n",
       " 'Hugh Jackman|David Wenham': 2,\n",
       " 'Anna Popplewell|Georgie Henley': 2,\n",
       " 'Anna Popplewell|Skandar Keynes': 2,\n",
       " 'William Moseley|Georgie Henley': 2,\n",
       " 'William Moseley|Skandar Keynes': 2,\n",
       " 'William Moseley|Anna Popplewell': 2,\n",
       " 'Selma Blair|John Hurt': 2,\n",
       " 'Selma Blair|Jeffrey Tambor': 2,\n",
       " 'Ron Perlman|Jeffrey Tambor': 2,\n",
       " 'Ron Perlman|Selma Blair': 2,\n",
       " 'David Schwimmer|Chris Rock': 2,\n",
       " 'Ben Stiller|Jada Pinkett Smith': 2,\n",
       " 'Colin Firth|Stellan SkarsgÃ¥rd': 2,\n",
       " 'Angelina Jolie|Jackie Chan': 2,\n",
       " 'Dustin Hoffman|Jackie Chan': 2,\n",
       " 'Jack Black|Jackie Chan': 2,\n",
       " 'Jack Black|Dustin Hoffman': 2,\n",
       " 'Cary Elwes|Joanna Lumley': 2,\n",
       " 'Freddie Prinze Jr.|Matthew Lillard': 2,\n",
       " 'John Travolta|Vince Vaughn': 2,\n",
       " 'Paul Walker|Vin Diesel': 2,\n",
       " 'Jason Biggs|Amanda Detmer': 2,\n",
       " 'Mike Epps|Anna Maria Horsford': 2,\n",
       " 'DMX|Anthony Anderson': 2,\n",
       " 'Robert De Niro|Charlize Theron': 2,\n",
       " 'Anthony Hopkins|Hope Davis': 2,\n",
       " 'Brad Pitt|James Gandolfini': 2,\n",
       " 'Breckin Meyer|Amy Smart': 2,\n",
       " 'Seth Green|Breckin Meyer': 2,\n",
       " 'Chris Tucker|Jackie Chan': 2,\n",
       " 'Marlon Wayans|Shawn Wayans': 2,\n",
       " 'Heath Ledger|Shannyn Sossamon': 2,\n",
       " 'Jude Law|Rachel Weisz': 2,\n",
       " 'Johnny Depp|PenÃ©lope Cruz': 2,\n",
       " 'Ewan McGregor|Jim Broadbent': 2,\n",
       " 'Julie Andrews|HÃ©ctor Elizondo': 2,\n",
       " 'Julie Andrews|Heather Matarazzo': 2,\n",
       " 'Anne Hathaway|HÃ©ctor Elizondo': 2,\n",
       " 'Anne Hathaway|Heather Matarazzo': 2,\n",
       " 'Anne Hathaway|Julie Andrews': 2,\n",
       " 'Seann William Scott|Eddie Kaye Thomas': 2,\n",
       " 'Jason Biggs|Eddie Kaye Thomas': 2,\n",
       " 'Jason Biggs|Chris Klein': 2,\n",
       " 'Russell Crowe|Paul Bettany': 2,\n",
       " 'Angelina Jolie|Noah Taylor': 2,\n",
       " 'Brendan Fraser|John Hannah': 2,\n",
       " 'Brad Pitt|Andy GarcÃ\\xada': 2,\n",
       " 'Brad Pitt|Matt Damon': 2,\n",
       " 'George Clooney|Julia Roberts': 2,\n",
       " 'George Clooney|Andy GarcÃ\\xada': 2,\n",
       " 'Hugh Grant|Jim Broadbent': 2,\n",
       " 'Hugh Grant|Gemma Jones': 2,\n",
       " 'Colin Firth|Jim Broadbent': 2,\n",
       " 'Colin Firth|Gemma Jones': 2,\n",
       " 'RenÃ©e Zellweger|Jim Broadbent': 2,\n",
       " 'RenÃ©e Zellweger|Gemma Jones': 2,\n",
       " 'RenÃ©e Zellweger|Hugh Grant': 2,\n",
       " 'RenÃ©e Zellweger|Colin Firth': 2,\n",
       " 'Billy Crystal|Steve Buscemi': 2,\n",
       " 'John Goodman|Steve Buscemi': 2,\n",
       " 'Milla Jovovich|Ali Larter': 2,\n",
       " 'Jill Scott|Malik Yoba': 2,\n",
       " 'Janet Jackson|Malik Yoba': 2,\n",
       " 'Tyler Perry|Malik Yoba': 2,\n",
       " 'Tyler Perry|Jill Scott': 2,\n",
       " 'Tyler Perry|Janet Jackson': 2,\n",
       " 'Kristen Wiig|Maya Rudolph': 2,\n",
       " 'Steve Zahn|Rachael Harris': 2,\n",
       " 'Robert Capron|Steve Zahn': 2,\n",
       " 'Zachary Gordon|Rachael Harris': 2,\n",
       " 'Zachary Gordon|Steve Zahn': 2,\n",
       " 'Zachary Gordon|Robert Capron': 2,\n",
       " 'Robert De Niro|Edward Norton': 2,\n",
       " 'Kim Cattrall|Chris Noth': 2,\n",
       " 'Cynthia Nixon|Chris Noth': 2,\n",
       " 'Kristin Davis|Chris Noth': 2,\n",
       " 'Sarah Jessica Parker|Chris Noth': 2,\n",
       " 'Sarah Jessica Parker|Kim Cattrall': 2,\n",
       " 'Sarah Jessica Parker|Cynthia Nixon': 2,\n",
       " 'Sarah Jessica Parker|Kristin Davis': 2,\n",
       " 'Katherine Heigl|Ashton Kutcher': 2,\n",
       " 'Christian Bale|Amy Adams': 2,\n",
       " 'Jack Black|Amanda Peet': 2,\n",
       " 'Emily Blunt|Jason Segel': 2,\n",
       " 'Matt Damon|Greg Kinnear': 2,\n",
       " 'Tom Cruise|Cameron Diaz': 2,\n",
       " 'Jake Gyllenhaal|Anne Hathaway': 2,\n",
       " 'Helena Bonham Carter|Timothy Spall': 2,\n",
       " 'Mark Wahlberg|Dwayne Johnson': 2,\n",
       " 'Brad Pitt|Jonah Hill': 2,\n",
       " 'Ashley Greene|Peter Facinelli': 2,\n",
       " 'Adam Sandler|Salma Hayek': 2,\n",
       " 'Danny Trejo|Michelle Rodriguez': 2,\n",
       " 'Channing Tatum|Richard Jenkins': 2,\n",
       " 'Logan Lerman|Alexandra Daddario': 2,\n",
       " 'Logan Lerman|Brandon T. Jackson': 2,\n",
       " 'Dustin Hoffman|Barbra Streisand': 2,\n",
       " 'Ben Stiller|Barbra Streisand': 2,\n",
       " 'Ben Stiller|Dustin Hoffman': 2,\n",
       " 'Robert De Niro|Barbra Streisand': 2,\n",
       " 'Robert De Niro|Dustin Hoffman': 2,\n",
       " 'Robert De Niro|Owen Wilson': 2,\n",
       " 'Liam Neeson|Ralph Fiennes': 2,\n",
       " 'Sam Worthington|Ralph Fiennes': 2,\n",
       " 'Sam Worthington|Liam Neeson': 2,\n",
       " 'Russell Crowe|Mark Strong': 2,\n",
       " 'Jason Statham|Dolph Lundgren': 2,\n",
       " 'Sylvester Stallone|Dolph Lundgren': 2,\n",
       " 'Jason Segel|Russell Brand': 2,\n",
       " 'Steve Carell|Will Arnett': 2,\n",
       " 'Steve Carell|Russell Brand': 2,\n",
       " 'Gwyneth Paltrow|Don Cheadle': 2,\n",
       " 'Robert Downey Jr.|Don Cheadle': 2,\n",
       " 'Danny Huston|Lynn Collins': 2,\n",
       " 'Michael Caine|Emily Mortimer': 2,\n",
       " 'Robert Downey Jr.|Jamie Foxx': 2,\n",
       " 'Jason Bateman|Kristen Wiig': 2,\n",
       " 'Julia Roberts|Paul Giamatti': 2,\n",
       " 'Clive Owen|Paul Giamatti': 2,\n",
       " 'Naomi Watts|Armin Mueller-Stahl': 2,\n",
       " 'Seth Rogen|Leslie Mann': 2,\n",
       " 'Nicolas Cage|Eva Mendes': 2,\n",
       " 'Dwayne Johnson|Seann William Scott': 2,\n",
       " 'Jeff Bridges|Kevin Spacey': 2,\n",
       " 'Josh Duhamel|Tyrese Gibson': 2,\n",
       " 'Megan Fox|Tyrese Gibson': 2,\n",
       " 'Shia LaBeouf|Tyrese Gibson': 2,\n",
       " 'Shia LaBeouf|Megan Fox': 2,\n",
       " 'Betsy Russell|Mark Rolston': 2,\n",
       " 'Costas Mandylor|Mark Rolston': 2,\n",
       " 'Tobin Bell|Mark Rolston': 2,\n",
       " 'Matt Damon|Scott Bakula': 2,\n",
       " 'Billy Crudup|Marion Cotillard': 2,\n",
       " 'Johnny Depp|Giovanni Ribisi': 2,\n",
       " 'Meryl Streep|Stanley Tucci': 2,\n",
       " 'Reese Witherspoon|Paul Rudd': 2,\n",
       " 'Seth Rogen|Paul Rudd': 2,\n",
       " 'Charlize Theron|Guy Pearce': 2,\n",
       " 'Jason Bateman|Jon Favreau': 2,\n",
       " 'Vince Vaughn|Jon Favreau': 2,\n",
       " 'Amy Smart|Efren Ramirez': 2,\n",
       " 'Amy Smart|Dwight Yoakam': 2,\n",
       " 'Jason Statham|Efren Ramirez': 2,\n",
       " 'Jason Statham|Dwight Yoakam': 2,\n",
       " 'Jason Statham|Amy Smart': 2,\n",
       " 'Susan Sarandon|Stanley Tucci': 2,\n",
       " 'Anna Faris|James Caan': 2,\n",
       " 'Bill Hader|James Caan': 2,\n",
       " 'Bill Hader|Anna Faris': 2,\n",
       " 'Robert Pattinson|Billy Burke': 2,\n",
       " 'Kristen Stewart|Billy Burke': 2,\n",
       " 'Jesse Eisenberg|Woody Harrelson': 2,\n",
       " 'Jennifer Connelly|Christopher Plummer': 2,\n",
       " 'John Cusack|Amanda Peet': 2,\n",
       " 'Robert Downey Jr.|Jude Law': 2,\n",
       " 'Chris Pine|Zachary Quinto': 2,\n",
       " 'Michael Sheen|Shane Brolly': 2,\n",
       " 'Ashley Judd|Harry Connick Jr.': 2,\n",
       " 'Ashley Judd|Nathan Gamble': 2,\n",
       " 'Morgan Freeman|Harry Connick Jr.': 2,\n",
       " 'Morgan Freeman|Nathan Gamble': 2,\n",
       " 'Morgan Freeman|Ashley Judd': 2,\n",
       " 'Michael Ealy|Regina Hall': 2,\n",
       " 'Zac Efron|Imogen Poots': 2,\n",
       " 'Channing Tatum|Sienna Miller': 2,\n",
       " 'Kit Harington|Carrie-Anne Moss': 2,\n",
       " 'George Clooney|John Goodman': 2,\n",
       " 'George Clooney|Bill Murray': 2,\n",
       " 'Anne Hathaway|Leslie Mann': 2,\n",
       " 'Jesse Eisenberg|Leslie Mann': 2,\n",
       " 'Jesse Eisenberg|Anne Hathaway': 2,\n",
       " 'Jessica Alba|Rosario Dawson': 2,\n",
       " 'Jessica Alba|Josh Brolin': 2,\n",
       " 'Joaquin Phoenix|Reese Witherspoon': 2,\n",
       " 'Ryan Guzman|Stephen Boss': 2,\n",
       " 'Zac Efron|Dave Franco': 2,\n",
       " 'Russell Crowe|Logan Lerman': 2,\n",
       " 'Ben Whishaw|Michael Gambon': 2,\n",
       " 'Channing Tatum|Dave Franco': 2,\n",
       " 'Jonah Hill|Dave Franco': 2,\n",
       " 'Lena Headey|David Wenham': 2,\n",
       " 'Meryl Streep|Emily Blunt': 2,\n",
       " 'Jason Statham|Arnold Schwarzenegger': 2,\n",
       " 'Gerard Butler|Jonah Hill': 2,\n",
       " 'Jay Baruchel|Jonah Hill': 2,\n",
       " 'Jay Baruchel|Gerard Butler': 2,\n",
       " 'James Franco|Lizzy Caplan': 2,\n",
       " 'James Franco|Seth Rogen': 2,\n",
       " 'Andrew Garfield|Emma Stone': 2,\n",
       " 'Jason Bateman|Jennifer Aniston': 2,\n",
       " 'Jason Bateman|Charlie Day': 2,\n",
       " 'Jason Bateman|Jason Sudeikis': 2,\n",
       " 'Mark Wahlberg|Stanley Tucci': 2,\n",
       " 'Megan Fox|Will Arnett': 2,\n",
       " 'James McAvoy|Michael Fassbender': 2,\n",
       " 'James McAvoy|Patrick Stewart': 2,\n",
       " 'Hugh Jackman|Patrick Stewart': 2,\n",
       " 'Ken Stott|Graham McTavish': 2,\n",
       " 'Richard Armitage|Graham McTavish': 2,\n",
       " 'Richard Armitage|Ken Stott': 2,\n",
       " 'Ian McKellen|Graham McTavish': 2,\n",
       " 'Ian McKellen|Ken Stott': 2,\n",
       " 'Martin Freeman|Graham McTavish': 2,\n",
       " 'Martin Freeman|Ken Stott': 2,\n",
       " 'Martin Freeman|Ian McKellen': 2,\n",
       " 'Scarlett Johansson|Samuel L. Jackson': 2,\n",
       " 'Chris Evans|Sebastian Stan': 2,\n",
       " 'Clancy Brown|Carolyn Lawrence': 2,\n",
       " 'Rodger Bumpass|Carolyn Lawrence': 2,\n",
       " 'Bill Fagerbakke|Carolyn Lawrence': 2,\n",
       " 'Tom Kenny|Carolyn Lawrence': 2,\n",
       " 'Tom Kenny|Clancy Brown': 2,\n",
       " 'Tom Kenny|Rodger Bumpass': 2,\n",
       " 'Tom Kenny|Bill Fagerbakke': 2,\n",
       " 'Tina Fey|Amy Poehler': 2,\n",
       " 'Kevin James|Raini Rodriguez': 2,\n",
       " 'Will Ferrell|Mark Wahlberg': 2,\n",
       " 'Adam Sandler|Selena Gomez': 2,\n",
       " 'Adam Sandler|Andy Samberg': 2,\n",
       " 'Seth Rogen|Lizzy Caplan': 2,\n",
       " 'Joseph Gordon-Levitt|Seth Rogen': 2,\n",
       " 'Hugh Jackman|Amanda Seyfried': 2,\n",
       " 'Rose Byrne|Bobby Cannavale': 2,\n",
       " 'Miles Teller|Michael B. Jordan': 2,\n",
       " 'Bradley Cooper|Sienna Miller': 2,\n",
       " 'Edgar RamÃ\\xadrez|Delroy Lindo': 2,\n",
       " 'Liam Neeson|Boyd Holbrook': 2,\n",
       " 'Anna Kendrick|Skylar Astin': 2,\n",
       " 'Anna Kendrick|Brittany Snow': 2,\n",
       " 'Anna Kendrick|Rebel Wilson': 2,\n",
       " \"Dylan O'Brien|Kaya Scodelario\": 2,\n",
       " 'Seth MacFarlane|Giovanni Ribisi': 2,\n",
       " 'Mark Wahlberg|Seth MacFarlane': 2,\n",
       " 'Jeremy Renner|Simon Pegg': 2,\n",
       " 'Tom Cruise|Simon Pegg': 2,\n",
       " 'Tom Cruise|Jeremy Renner': 2,\n",
       " 'Steve Carell|Ryan Gosling': 2,\n",
       " 'Christian Bale|Melissa Leo': 2,\n",
       " 'Dwayne Johnson|Carla Gugino': 2,\n",
       " 'Maggie Grace|Famke Janssen': 2,\n",
       " 'Mark Ruffalo|Scarlett Johansson': 2,\n",
       " 'Chris Hemsworth|Scarlett Johansson': 2,\n",
       " 'Robert Downey Jr.|Chris Evans': 2,\n",
       " 'Robert Downey Jr.|Chris Hemsworth': 2,\n",
       " 'Daniel Craig|Ralph Fiennes': 2,\n",
       " 'Leonardo DiCaprio|Tom Hardy': 2,\n",
       " 'Kate Winslet|Miles Teller': 2,\n",
       " 'Theo James|Miles Teller': 2,\n",
       " 'Theo James|Kate Winslet': 2,\n",
       " 'Shailene Woodley|Miles Teller': 2,\n",
       " 'Shailene Woodley|Ansel Elgort': 2,\n",
       " 'Shailene Woodley|Kate Winslet': 2,\n",
       " 'Shailene Woodley|Theo James': 2,\n",
       " 'Nathan Bexton|Tess Harper': 1,\n",
       " 'Matthew Settle|Tess Harper': 1,\n",
       " 'Matthew Settle|Nathan Bexton': 1,\n",
       " 'Lori Heuring|Tess Harper': 1,\n",
       " 'Lori Heuring|Nathan Bexton': 1,\n",
       " 'Lori Heuring|Matthew Settle': 1,\n",
       " 'Susan Ward|Tess Harper': 1,\n",
       " 'Susan Ward|Nathan Bexton': 1,\n",
       " 'Susan Ward|Matthew Settle': 1,\n",
       " 'Susan Ward|Lori Heuring': 1,\n",
       " 'Walter Matthau|Adam Arkin': 1,\n",
       " 'Lisa Kudrow|Adam Arkin': 1,\n",
       " 'Lisa Kudrow|Walter Matthau': 1,\n",
       " 'Diane Keaton|Adam Arkin': 1,\n",
       " 'Diane Keaton|Walter Matthau': 1,\n",
       " 'Diane Keaton|Lisa Kudrow': 1,\n",
       " 'Meg Ryan|Adam Arkin': 1,\n",
       " 'Meg Ryan|Walter Matthau': 1,\n",
       " 'Meg Ryan|Lisa Kudrow': 1,\n",
       " 'Meg Ryan|Diane Keaton': 1,\n",
       " 'Randy Quaid|Robert De Niro': 1,\n",
       " 'Piper Perabo|Robert De Niro': 1,\n",
       " 'Piper Perabo|Randy Quaid': 1,\n",
       " 'Jason Alexander|Robert De Niro': 1,\n",
       " 'Jason Alexander|Randy Quaid': 1,\n",
       " 'Jason Alexander|Piper Perabo': 1,\n",
       " 'Rene Russo|Robert De Niro': 1,\n",
       " 'Rene Russo|Randy Quaid': 1,\n",
       " 'Rene Russo|Piper Perabo': 1,\n",
       " 'Rene Russo|Jason Alexander': 1,\n",
       " 'Alice Krige|Pamela Gidley': 1,\n",
       " 'Jim Carter|Pamela Gidley': 1,\n",
       " 'Jim Carter|Alice Krige': 1,\n",
       " 'Jonathan Lipnicki|Pamela Gidley': 1,\n",
       " 'Jonathan Lipnicki|Alice Krige': 1,\n",
       " 'Jonathan Lipnicki|Jim Carter': 1,\n",
       " 'Richard E. Grant|Pamela Gidley': 1,\n",
       " 'Richard E. Grant|Alice Krige': 1,\n",
       " 'Richard E. Grant|Jim Carter': 1,\n",
       " 'Richard E. Grant|Jonathan Lipnicki': 1,\n",
       " 'Robert Loggia|Jim Belushi': 1,\n",
       " \"Carroll O'Connor|Jim Belushi\": 1,\n",
       " \"Carroll O'Connor|Robert Loggia\": 1,\n",
       " 'Minnie Driver|Jim Belushi': 1,\n",
       " 'Minnie Driver|Robert Loggia': 1,\n",
       " \"Minnie Driver|Carroll O'Connor\": 1,\n",
       " 'David Duchovny|Jim Belushi': 1,\n",
       " 'David Duchovny|Robert Loggia': 1,\n",
       " \"David Duchovny|Carroll O'Connor\": 1,\n",
       " 'David Duchovny|Minnie Driver': 1,\n",
       " 'Rose McGowan|Bill Goldberg': 1,\n",
       " 'Oliver Platt|Bill Goldberg': 1,\n",
       " 'Oliver Platt|Rose McGowan': 1,\n",
       " 'Scott Caan|Bill Goldberg': 1,\n",
       " 'Scott Caan|Rose McGowan': 1,\n",
       " 'Scott Caan|Oliver Platt': 1,\n",
       " 'David Arquette|Bill Goldberg': 1,\n",
       " 'David Arquette|Rose McGowan': 1,\n",
       " 'David Arquette|Oliver Platt': 1,\n",
       " 'David Arquette|Scott Caan': 1,\n",
       " 'John Witherspoon|Jill Talley': 1,\n",
       " 'Billy Dee Williams|Jill Talley': 1,\n",
       " 'Billy Dee Williams|John Witherspoon': 1,\n",
       " 'Karyn Parsons|Jill Talley': 1,\n",
       " 'Karyn Parsons|John Witherspoon': 1,\n",
       " 'Karyn Parsons|Billy Dee Williams': 1,\n",
       " 'Tim Meadows|Jill Talley': 1,\n",
       " 'Tim Meadows|John Witherspoon': 1,\n",
       " 'Tim Meadows|Billy Dee Williams': 1,\n",
       " 'Tim Meadows|Karyn Parsons': 1,\n",
       " 'Bruce Payne|Zoe McLellan': 1,\n",
       " 'Thora Birch|Zoe McLellan': 1,\n",
       " 'Thora Birch|Bruce Payne': 1,\n",
       " 'Jeremy Irons|Zoe McLellan': 1,\n",
       " 'Jeremy Irons|Bruce Payne': 1,\n",
       " 'Jeremy Irons|Thora Birch': 1,\n",
       " 'Justin Whalin|Zoe McLellan': 1,\n",
       " 'Justin Whalin|Bruce Payne': 1,\n",
       " 'Justin Whalin|Thora Birch': 1,\n",
       " 'Justin Whalin|Jeremy Irons': 1,\n",
       " 'Michael Caine|Billie Whitelaw': 1,\n",
       " 'Joaquin Phoenix|Billie Whitelaw': 1,\n",
       " 'Joaquin Phoenix|Michael Caine': 1,\n",
       " 'Kate Winslet|Billie Whitelaw': 1,\n",
       " 'Kate Winslet|Michael Caine': 1,\n",
       " 'Kate Winslet|Joaquin Phoenix': 1,\n",
       " 'Geoffrey Rush|Billie Whitelaw': 1,\n",
       " 'Geoffrey Rush|Michael Caine': 1,\n",
       " 'Geoffrey Rush|Joaquin Phoenix': 1,\n",
       " 'Geoffrey Rush|Kate Winslet': 1,\n",
       " 'Lena Headey|Norman Reedus': 1,\n",
       " 'Kate Hudson|Norman Reedus': 1,\n",
       " 'Kate Hudson|Lena Headey': 1,\n",
       " 'James Marsden|Norman Reedus': 1,\n",
       " 'James Marsden|Lena Headey': 1,\n",
       " 'James Marsden|Kate Hudson': 1,\n",
       " 'Joshua Jackson|Norman Reedus': 1,\n",
       " 'Joshua Jackson|Lena Headey': 1,\n",
       " 'Joshua Jackson|Kate Hudson': 1,\n",
       " 'Joshua Jackson|James Marsden': 1,\n",
       " 'Omar Epps|Alfre Woodard': 1,\n",
       " 'Sanaa Lathan|Alfre Woodard': 1,\n",
       " 'Sanaa Lathan|Omar Epps': 1,\n",
       " 'Kyla Pratt|Alfre Woodard': 1,\n",
       " 'Kyla Pratt|Omar Epps': 1,\n",
       " 'Kyla Pratt|Sanaa Lathan': 1,\n",
       " 'Chris Warren, Jr.|Alfre Woodard': 1,\n",
       " 'Chris Warren, Jr.|Omar Epps': 1,\n",
       " 'Chris Warren, Jr.|Sanaa Lathan': 1,\n",
       " 'Chris Warren, Jr.|Kyla Pratt': 1,\n",
       " 'Donnie Yen|Lisa Barbuscia': 1,\n",
       " 'Adrian Paul|Lisa Barbuscia': 1,\n",
       " 'Adrian Paul|Donnie Yen': 1,\n",
       " 'Bruce Payne|Lisa Barbuscia': 1,\n",
       " 'Bruce Payne|Donnie Yen': 1,\n",
       " 'Bruce Payne|Adrian Paul': 1,\n",
       " 'Christopher Lambert|Lisa Barbuscia': 1,\n",
       " 'Christopher Lambert|Donnie Yen': 1,\n",
       " 'Christopher Lambert|Adrian Paul': 1,\n",
       " 'Christopher Lambert|Bruce Payne': 1,\n",
       " 'Lily Tomlin|Chi McBride': 1,\n",
       " 'Emily Mortimer|Chi McBride': 1,\n",
       " 'Emily Mortimer|Lily Tomlin': 1,\n",
       " 'Spencer Breslin|Chi McBride': 1,\n",
       " 'Spencer Breslin|Lily Tomlin': 1,\n",
       " 'Spencer Breslin|Emily Mortimer': 1,\n",
       " 'Bruce Willis|Chi McBride': 1,\n",
       " 'Bruce Willis|Lily Tomlin': 1,\n",
       " 'Bruce Willis|Emily Mortimer': 1,\n",
       " 'Bruce Willis|Spencer Breslin': 1,\n",
       " 'James Franco|Aaron Paul': 1,\n",
       " 'Marla Sokoloff|Aaron Paul': 1,\n",
       " 'Marla Sokoloff|James Franco': 1,\n",
       " 'Shane West|Aaron Paul': 1,\n",
       " 'Shane West|James Franco': 1,\n",
       " 'Shane West|Marla Sokoloff': 1,\n",
       " \"Jodi Lyn O'Keefe|Aaron Paul\": 1,\n",
       " \"Jodi Lyn O'Keefe|James Franco\": 1,\n",
       " \"Jodi Lyn O'Keefe|Marla Sokoloff\": 1,\n",
       " \"Jodi Lyn O'Keefe|Shane West\": 1,\n",
       " 'Anne Archer|Michael Biehn': 1,\n",
       " 'Maury Chaykin|Michael Biehn': 1,\n",
       " 'Maury Chaykin|Anne Archer': 1,\n",
       " 'Donald Sutherland|Michael Biehn': 1,\n",
       " 'Donald Sutherland|Anne Archer': 1,\n",
       " 'Donald Sutherland|Maury Chaykin': 1,\n",
       " 'Wesley Snipes|Michael Biehn': 1,\n",
       " 'Wesley Snipes|Anne Archer': 1,\n",
       " 'Wesley Snipes|Maury Chaykin': 1,\n",
       " 'Wesley Snipes|Donald Sutherland': 1,\n",
       " 'Lou Diamond Phillips|Peter Facinelli': 1,\n",
       " 'Robert Forster|Peter Facinelli': 1,\n",
       " 'Robert Forster|Lou Diamond Phillips': 1,\n",
       " 'Angela Bassett|Peter Facinelli': 1,\n",
       " 'Angela Bassett|Lou Diamond Phillips': 1,\n",
       " 'Angela Bassett|Robert Forster': 1,\n",
       " 'James Spader|Peter Facinelli': 1,\n",
       " 'James Spader|Lou Diamond Phillips': 1,\n",
       " 'James Spader|Robert Forster': 1,\n",
       " 'James Spader|Angela Bassett': 1,\n",
       " 'Anne Bancroft|Eli Wallach': 1,\n",
       " 'Jenna Elfman|Eli Wallach': 1,\n",
       " 'Jenna Elfman|Anne Bancroft': 1,\n",
       " 'Edward Norton|Eli Wallach': 1,\n",
       " 'Edward Norton|Anne Bancroft': 1,\n",
       " 'Edward Norton|Jenna Elfman': 1,\n",
       " 'Ben Stiller|Eli Wallach': 1,\n",
       " 'Ben Stiller|Anne Bancroft': 1,\n",
       " 'Ben Stiller|Jenna Elfman': 1,\n",
       " 'Ben Stiller|Edward Norton': 1,\n",
       " 'John Ales|Richard Gant': 1,\n",
       " 'Larry Miller|Richard Gant': 1,\n",
       " 'Larry Miller|John Ales': 1,\n",
       " 'Janet Jackson|Richard Gant': 1,\n",
       " 'Janet Jackson|John Ales': 1,\n",
       " 'Janet Jackson|Larry Miller': 1,\n",
       " 'Eddie Murphy|Richard Gant': 1,\n",
       " 'Eddie Murphy|John Ales': 1,\n",
       " 'Eddie Murphy|Larry Miller': 1,\n",
       " 'Eddie Murphy|Janet Jackson': 1,\n",
       " 'Tim McInnerny|GÃ©rard Depardieu': 1,\n",
       " 'Alice Evans|GÃ©rard Depardieu': 1,\n",
       " 'Alice Evans|Tim McInnerny': 1,\n",
       " 'Ioan Gruffudd|GÃ©rard Depardieu': 1,\n",
       " 'Ioan Gruffudd|Tim McInnerny': 1,\n",
       " 'Ioan Gruffudd|Alice Evans': 1,\n",
       " 'Glenn Close|GÃ©rard Depardieu': 1,\n",
       " 'Glenn Close|Tim McInnerny': 1,\n",
       " 'Glenn Close|Alice Evans': 1,\n",
       " 'Glenn Close|Ioan Gruffudd': 1,\n",
       " 'Claire Forlani|Amanda Detmer': 1,\n",
       " 'Claire Forlani|Jason Biggs': 1,\n",
       " 'Freddie Prinze Jr.|Amanda Detmer': 1,\n",
       " 'Freddie Prinze Jr.|Jason Biggs': 1,\n",
       " 'Freddie Prinze Jr.|Claire Forlani': 1,\n",
       " 'Anna Paquin|Busta Rhymes': 1,\n",
       " 'F. Murray Abraham|Busta Rhymes': 1,\n",
       " 'F. Murray Abraham|Anna Paquin': 1,\n",
       " 'Rob Brown|Busta Rhymes': 1,\n",
       " 'Rob Brown|Anna Paquin': 1,\n",
       " 'Rob Brown|F. Murray Abraham': 1,\n",
       " 'Sean Connery|Busta Rhymes': 1,\n",
       " 'Sean Connery|Anna Paquin': 1,\n",
       " 'Sean Connery|F. Murray Abraham': 1,\n",
       " 'Sean Connery|Rob Brown': 1,\n",
       " 'Ben Kingsley|Bruce Greenwood': 1,\n",
       " 'Guy Pearce|Bruce Greenwood': 1,\n",
       " 'Samuel L. Jackson|Bruce Greenwood': 1,\n",
       " 'Samuel L. Jackson|Ben Kingsley': 1,\n",
       " 'Samuel L. Jackson|Guy Pearce': 1,\n",
       " 'Tommy Lee Jones|Bruce Greenwood': 1,\n",
       " 'Tommy Lee Jones|Ben Kingsley': 1,\n",
       " 'Tommy Lee Jones|Guy Pearce': 1,\n",
       " 'Tommy Lee Jones|Samuel L. Jackson': 1,\n",
       " 'James Remar|Miranda Otto': 1,\n",
       " 'Diana Scarwid|Miranda Otto': 1,\n",
       " 'Diana Scarwid|James Remar': 1,\n",
       " 'Michelle Pfeiffer|Miranda Otto': 1,\n",
       " 'Michelle Pfeiffer|James Remar': 1,\n",
       " 'Michelle Pfeiffer|Diana Scarwid': 1,\n",
       " 'Harrison Ford|Miranda Otto': 1,\n",
       " 'Harrison Ford|James Remar': 1,\n",
       " 'Harrison Ford|Diana Scarwid': 1,\n",
       " 'Harrison Ford|Michelle Pfeiffer': 1,\n",
       " 'Aunjanue Ellis|Hal Holbrook': 1,\n",
       " 'Charlize Theron|Hal Holbrook': 1,\n",
       " 'Charlize Theron|Aunjanue Ellis': 1,\n",
       " 'Cuba Gooding Jr.|Hal Holbrook': 1,\n",
       " 'Cuba Gooding Jr.|Aunjanue Ellis': 1,\n",
       " 'Cuba Gooding Jr.|Charlize Theron': 1,\n",
       " 'Robert De Niro|Hal Holbrook': 1,\n",
       " 'Robert De Niro|Aunjanue Ellis': 1,\n",
       " 'Robert De Niro|Cuba Gooding Jr.': 1,\n",
       " 'Justine Waddell|Jennifer Esposito': 1,\n",
       " 'Jonny Lee Miller|Jennifer Esposito': 1,\n",
       " 'Jonny Lee Miller|Justine Waddell': 1,\n",
       " 'Christopher Plummer|Jennifer Esposito': 1,\n",
       " 'Christopher Plummer|Justine Waddell': 1,\n",
       " 'Christopher Plummer|Jonny Lee Miller': 1,\n",
       " 'Gerard Butler|Jennifer Esposito': 1,\n",
       " 'Gerard Butler|Justine Waddell': 1,\n",
       " 'Gerard Butler|Jonny Lee Miller': 1,\n",
       " 'Gerard Butler|Christopher Plummer': 1,\n",
       " 'Justin Pierce|Don Curry': 1,\n",
       " 'Justin Pierce|John Witherspoon': 1,\n",
       " 'Mike Epps|Justin Pierce': 1,\n",
       " 'Ice Cube|Justin Pierce': 1,\n",
       " 'Dennis Farina|Donal Logue': 1,\n",
       " 'Charlize Theron|Donal Logue': 1,\n",
       " 'Charlize Theron|Dennis Farina': 1,\n",
       " 'Gary Sinise|Donal Logue': 1,\n",
       " 'Gary Sinise|Dennis Farina': 1,\n",
       " 'Gary Sinise|Charlize Theron': 1,\n",
       " 'Ben Affleck|Donal Logue': 1,\n",
       " 'Ben Affleck|Dennis Farina': 1,\n",
       " 'Ben Affleck|Charlize Theron': 1,\n",
       " 'Ben Affleck|Gary Sinise': 1,\n",
       " 'Scott Glenn|Izabella Scorupco': 1,\n",
       " 'Bill Paxton|Izabella Scorupco': 1,\n",
       " 'Bill Paxton|Scott Glenn': 1,\n",
       " 'Robin Tunney|Izabella Scorupco': 1,\n",
       " 'Robin Tunney|Scott Glenn': 1,\n",
       " 'Robin Tunney|Bill Paxton': 1,\n",
       " \"Chris O'Donnell|Izabella Scorupco\": 1,\n",
       " \"Chris O'Donnell|Scott Glenn\": 1,\n",
       " \"Chris O'Donnell|Bill Paxton\": 1,\n",
       " \"Chris O'Donnell|Robin Tunney\": 1,\n",
       " 'Patrick Dempsey|Scott Foley': 1,\n",
       " 'Courteney Cox|Scott Foley': 1,\n",
       " 'Courteney Cox|Patrick Dempsey': 1,\n",
       " 'Neve Campbell|Scott Foley': 1,\n",
       " 'Neve Campbell|Patrick Dempsey': 1,\n",
       " 'David Arquette|Scott Foley': 1,\n",
       " 'David Arquette|Patrick Dempsey': 1,\n",
       " 'John Leguizamo|Nathan Lane': 1,\n",
       " 'Drew Barrymore|Nathan Lane': 1,\n",
       " 'Drew Barrymore|John Leguizamo': 1,\n",
       " 'Bill Pullman|Nathan Lane': 1,\n",
       " 'Bill Pullman|John Leguizamo': 1,\n",
       " 'Bill Pullman|Drew Barrymore': 1,\n",
       " 'Matt Damon|Nathan Lane': 1,\n",
       " 'Matt Damon|John Leguizamo': 1,\n",
       " 'Matt Damon|Drew Barrymore': 1,\n",
       " 'Matt Damon|Bill Pullman': 1,\n",
       " 'John C. Reilly|William Fichtner': 1,\n",
       " 'Diane Lane|William Fichtner': 1,\n",
       " 'Diane Lane|John C. Reilly': 1,\n",
       " 'Mark Wahlberg|William Fichtner': 1,\n",
       " 'Mark Wahlberg|John C. Reilly': 1,\n",
       " 'Mark Wahlberg|Diane Lane': 1,\n",
       " 'George Clooney|William Fichtner': 1,\n",
       " 'George Clooney|John C. Reilly': 1,\n",
       " 'George Clooney|Diane Lane': 1,\n",
       " 'George Clooney|Mark Wahlberg': 1,\n",
       " 'Virginie Ledoyen|Staffan Kihlbom': 1,\n",
       " 'Tilda Swinton|Staffan Kihlbom': 1,\n",
       " 'Tilda Swinton|Virginie Ledoyen': 1,\n",
       " 'Guillaume Canet|Staffan Kihlbom': 1,\n",
       " 'Guillaume Canet|Virginie Ledoyen': 1,\n",
       " 'Guillaume Canet|Tilda Swinton': 1,\n",
       " 'Leonardo DiCaprio|Staffan Kihlbom': 1,\n",
       " 'Leonardo DiCaprio|Virginie Ledoyen': 1,\n",
       " 'Leonardo DiCaprio|Tilda Swinton': 1,\n",
       " 'Leonardo DiCaprio|Guillaume Canet': 1,\n",
       " 'Dylan Baker|Shawn Driscoll': 1,\n",
       " 'Steven Culp|Shawn Driscoll': 1,\n",
       " 'Steven Culp|Dylan Baker': 1,\n",
       " 'Bruce Greenwood|Shawn Driscoll': 1,\n",
       " 'Bruce Greenwood|Dylan Baker': 1,\n",
       " 'Bruce Greenwood|Steven Culp': 1,\n",
       " 'Kevin Costner|Shawn Driscoll': 1,\n",
       " 'Kevin Costner|Dylan Baker': 1,\n",
       " 'Kevin Costner|Steven Culp': 1,\n",
       " 'Kevin Costner|Bruce Greenwood': 1,\n",
       " 'Jane Krakowski|Joan Collins': 1,\n",
       " 'Kristen Johnston|Joan Collins': 1,\n",
       " 'Kristen Johnston|Jane Krakowski': 1,\n",
       " 'Stephen Baldwin|Joan Collins': 1,\n",
       " 'Stephen Baldwin|Jane Krakowski': 1,\n",
       " 'Stephen Baldwin|Kristen Johnston': 1,\n",
       " 'Mark Addy|Joan Collins': 1,\n",
       " 'Mark Addy|Jane Krakowski': 1,\n",
       " 'Mark Addy|Kristen Johnston': 1,\n",
       " 'Mark Addy|Stephen Baldwin': 1,\n",
       " 'Mickey Rourke|Johnny Strong': 1,\n",
       " 'Rachael Leigh Cook|Johnny Strong': 1,\n",
       " 'Rachael Leigh Cook|Mickey Rourke': 1,\n",
       " 'Miranda Richardson|Johnny Strong': 1,\n",
       " 'Miranda Richardson|Mickey Rourke': 1,\n",
       " 'Miranda Richardson|Rachael Leigh Cook': 1,\n",
       " 'Sylvester Stallone|Johnny Strong': 1,\n",
       " 'Sylvester Stallone|Mickey Rourke': 1,\n",
       " 'Sylvester Stallone|Rachael Leigh Cook': 1,\n",
       " 'Sylvester Stallone|Miranda Richardson': 1,\n",
       " 'Busta Rhymes|Dan Hedaya': 1,\n",
       " 'Christian Bale|Dan Hedaya': 1,\n",
       " 'Christian Bale|Busta Rhymes': 1,\n",
       " 'Jeffrey Wright|Dan Hedaya': 1,\n",
       " 'Jeffrey Wright|Busta Rhymes': 1,\n",
       " 'Jeffrey Wright|Christian Bale': 1,\n",
       " 'Samuel L. Jackson|Dan Hedaya': 1,\n",
       " 'Samuel L. Jackson|Busta Rhymes': 1,\n",
       " 'Samuel L. Jackson|Christian Bale': 1,\n",
       " 'Samuel L. Jackson|Jeffrey Wright': 1,\n",
       " 'Marianne Jean-Baptiste|Catherine Sutherland': 1,\n",
       " 'Vince Vaughn|Catherine Sutherland': 1,\n",
       " 'Vince Vaughn|Marianne Jean-Baptiste': 1,\n",
       " \"Vincent D'Onofrio|Catherine Sutherland\": 1,\n",
       " \"Vincent D'Onofrio|Marianne Jean-Baptiste\": 1,\n",
       " \"Vincent D'Onofrio|Vince Vaughn\": 1,\n",
       " 'Jennifer Lopez|Catherine Sutherland': 1,\n",
       " 'Jennifer Lopez|Marianne Jean-Baptiste': 1,\n",
       " 'Jennifer Lopez|Vince Vaughn': 1,\n",
       " \"Jennifer Lopez|Vincent D'Onofrio\": 1,\n",
       " \"Connie Nielsen|Jerry O'Connell\": 1,\n",
       " \"Don Cheadle|Jerry O'Connell\": 1,\n",
       " 'Don Cheadle|Connie Nielsen': 1,\n",
       " \"Tim Robbins|Jerry O'Connell\": 1,\n",
       " 'Tim Robbins|Connie Nielsen': 1,\n",
       " 'Tim Robbins|Don Cheadle': 1,\n",
       " \"Gary Sinise|Jerry O'Connell\": 1,\n",
       " 'Gary Sinise|Connie Nielsen': 1,\n",
       " 'Gary Sinise|Don Cheadle': 1,\n",
       " 'Gary Sinise|Tim Robbins': 1,\n",
       " 'Tom Sizemore|Simon Baker': 1,\n",
       " 'Benjamin Bratt|Simon Baker': 1,\n",
       " 'Benjamin Bratt|Tom Sizemore': 1,\n",
       " 'Carrie-Anne Moss|Simon Baker': 1,\n",
       " 'Carrie-Anne Moss|Tom Sizemore': 1,\n",
       " 'Carrie-Anne Moss|Benjamin Bratt': 1,\n",
       " 'Val Kilmer|Simon Baker': 1,\n",
       " 'Val Kilmer|Tom Sizemore': 1,\n",
       " 'Val Kilmer|Benjamin Bratt': 1,\n",
       " 'Val Kilmer|Carrie-Anne Moss': 1,\n",
       " 'Jack Black|Lisa Bonet': 1,\n",
       " 'Todd Louiso|Lisa Bonet': 1,\n",
       " 'Todd Louiso|Jack Black': 1,\n",
       " 'Iben Hjejle|Lisa Bonet': 1,\n",
       " 'Iben Hjejle|Jack Black': 1,\n",
       " 'Iben Hjejle|Todd Louiso': 1,\n",
       " 'John Cusack|Lisa Bonet': 1,\n",
       " 'John Cusack|Jack Black': 1,\n",
       " 'John Cusack|Todd Louiso': 1,\n",
       " 'John Cusack|Iben Hjejle': 1,\n",
       " 'Carrie-Anne Moss|Judi Dench': 1,\n",
       " 'Johnny Depp|Judi Dench': 1,\n",
       " 'Johnny Depp|Carrie-Anne Moss': 1,\n",
       " 'Alfred Molina|Judi Dench': 1,\n",
       " 'Alfred Molina|Carrie-Anne Moss': 1,\n",
       " 'Alfred Molina|Johnny Depp': 1,\n",
       " 'Juliette Binoche|Judi Dench': 1,\n",
       " 'Juliette Binoche|Carrie-Anne Moss': 1,\n",
       " 'Juliette Binoche|Johnny Depp': 1,\n",
       " 'Juliette Binoche|Alfred Molina': 1,\n",
       " 'Eliza Dushku|Gabrielle Union': 1,\n",
       " 'Huntley Ritter|Gabrielle Union': 1,\n",
       " 'Huntley Ritter|Eliza Dushku': 1,\n",
       " 'Jesse Bradford|Gabrielle Union': 1,\n",
       " 'Jesse Bradford|Eliza Dushku': 1,\n",
       " 'Jesse Bradford|Huntley Ritter': 1,\n",
       " 'Kirsten Dunst|Gabrielle Union': 1,\n",
       " 'Kirsten Dunst|Eliza Dushku': 1,\n",
       " 'Kirsten Dunst|Huntley Ritter': 1,\n",
       " 'Kirsten Dunst|Jesse Bradford': 1,\n",
       " 'Jason Lee|Patrick Fugit': 1,\n",
       " 'Frances McDormand|Patrick Fugit': 1,\n",
       " 'Frances McDormand|Jason Lee': 1,\n",
       " 'Billy Crudup|Patrick Fugit': 1,\n",
       " 'Billy Crudup|Jason Lee': 1,\n",
       " 'Billy Crudup|Frances McDormand': 1,\n",
       " 'Kate Hudson|Patrick Fugit': 1,\n",
       " 'Kate Hudson|Jason Lee': 1,\n",
       " 'Kate Hudson|Frances McDormand': 1,\n",
       " 'Kate Hudson|Billy Crudup': 1,\n",
       " 'Michael Clarke Duncan|Kevin Pollak': 1,\n",
       " 'Rosanna Arquette|Kevin Pollak': 1,\n",
       " 'Rosanna Arquette|Michael Clarke Duncan': 1,\n",
       " 'Matthew Perry|Michael Clarke Duncan': 1,\n",
       " 'Matthew Perry|Rosanna Arquette': 1,\n",
       " 'Bruce Willis|Michael Clarke Duncan': 1,\n",
       " 'Bruce Willis|Rosanna Arquette': 1,\n",
       " 'James Garner|James Cromwell': 1,\n",
       " 'Donald Sutherland|James Cromwell': 1,\n",
       " 'Donald Sutherland|James Garner': 1,\n",
       " 'Tommy Lee Jones|James Cromwell': 1,\n",
       " 'Tommy Lee Jones|James Garner': 1,\n",
       " 'Tommy Lee Jones|Donald Sutherland': 1,\n",
       " 'Clint Eastwood|James Cromwell': 1,\n",
       " 'Clint Eastwood|James Garner': 1,\n",
       " ...}"
      ]
     },
     "execution_count": 124,
     "metadata": {},
     "output_type": "execute_result"
    }
   ],
   "source": [
    "films=pd.read_csv('movie_bd_v5.csv')\n",
    "\n",
    "cast_pair = {}\n",
    "\n",
    "for actors in films['cast']:\n",
    "    cast = actors.split(\"|\")\n",
    "    pairs = itertools.combinations(cast, 2)\n",
    "\n",
    "    for pair in pairs:\n",
    "        pair = \"|\".join(pair)\n",
    "        if pair not in cast_pair:\n",
    "            cast_pair[pair] = 0\n",
    "        cast_pair[pair] += 1\n",
    "\n",
    "        \n",
    "cast_pair_sorted = dict(reversed(sorted(cast_pair.items(), key=lambda item: item[1])))\n",
    "cast_pair_sorted"
   ]
  },
  {
   "cell_type": "markdown",
   "metadata": {
    "colab_type": "text",
    "id": "U0nONFnGVqAX"
   },
   "source": [
    "# Submission"
   ]
  },
  {
   "cell_type": "code",
   "execution_count": 125,
   "metadata": {
    "colab": {},
    "colab_type": "code",
    "id": "IfcaRO9-VqAX",
    "outputId": "0f132912-32bb-4196-c98c-abfbc4ad5a5f"
   },
   "outputs": [
    {
     "data": {
      "text/plain": [
       "{'1': 'Pirates of the Caribbean: On Stranger Tides (tt1298650)',\n",
       " '2': 'Gods and Generals (tt0279111)',\n",
       " '3': 'Gods and Generals (tt0279111)',\n",
       " '4': '110',\n",
       " '5': '107',\n",
       " '6': 'Avatar (tt0499549)',\n",
       " '7': 'The Lone Ranger (tt1210819)',\n",
       " '8': '1478',\n",
       " '9': 'The Dark Knight (tt0468569)',\n",
       " '10': 'The Lone Ranger (tt1210819)',\n",
       " '11': 'Drama',\n",
       " '12': 'Drama',\n",
       " '13': 'Peter Jackson',\n",
       " '14': 'Robert Rodriguez',\n",
       " '15': 'Chris Hemsworth',\n",
       " '16': 'Matt Damon',\n",
       " '17': 'Action',\n",
       " '18': 'K-19: The Widowmaker (tt0267626)',\n",
       " '19': '2015',\n",
       " '20': '2014',\n",
       " '21': 'Сентябрь',\n",
       " '22': '450',\n",
       " '23': 'Peter Jackson',\n",
       " '24': 'Four By Two Productions',\n",
       " '25': 'Midnight Picture Show',\n",
       " '26': 'Inside Out, The Dark Knight, 12 Years a Slave',\n",
       " '27': 'Daniel Radcliffe & Rupert Grint'}"
      ]
     },
     "execution_count": 125,
     "metadata": {},
     "output_type": "execute_result"
    }
   ],
   "source": [
    "# в конце можно посмотреть свои ответы к каждому вопросу\n",
    "answers"
   ]
  },
  {
   "cell_type": "code",
   "execution_count": 126,
   "metadata": {
    "colab": {},
    "colab_type": "code",
    "id": "SiRmHPl8VqAd"
   },
   "outputs": [
    {
     "data": {
      "text/plain": [
       "27"
      ]
     },
     "execution_count": 126,
     "metadata": {},
     "output_type": "execute_result"
    }
   ],
   "source": [
    "# и убедиться что ни чего не пропустил(а)\n",
    "len(answers)"
   ]
  },
  {
   "cell_type": "code",
   "execution_count": null,
   "metadata": {
    "colab": {},
    "colab_type": "code",
    "id": "uCfuTkRbVqAg"
   },
   "outputs": [],
   "source": []
  },
  {
   "cell_type": "code",
   "execution_count": null,
   "metadata": {
    "colab": {},
    "colab_type": "code",
    "id": "Vwx3NrkSVqAl"
   },
   "outputs": [],
   "source": []
  }
 ],
 "metadata": {
  "colab": {
   "name": "Copy of [SF-DST] Movies IMBD v4.1 TEMPLATE.ipynb",
   "provenance": []
  },
  "kernelspec": {
   "display_name": "Python 3",
   "language": "python",
   "name": "python3"
  },
  "language_info": {
   "codemirror_mode": {
    "name": "ipython",
    "version": 3
   },
   "file_extension": ".py",
   "mimetype": "text/x-python",
   "name": "python",
   "nbconvert_exporter": "python",
   "pygments_lexer": "ipython3",
   "version": "3.8.5"
  }
 },
 "nbformat": 4,
 "nbformat_minor": 1
}
